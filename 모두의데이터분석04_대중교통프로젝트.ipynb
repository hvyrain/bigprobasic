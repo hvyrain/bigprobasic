{
  "nbformat": 4,
  "nbformat_minor": 0,
  "metadata": {
    "colab": {
      "name": "모두의데이터분석04-대중교통프로젝트.ipynb",
      "provenance": [],
      "collapsed_sections": [],
      "toc_visible": true,
      "authorship_tag": "ABX9TyNBjyDHdHTAeo0o9nCusx90",
      "include_colab_link": true
    },
    "kernelspec": {
      "name": "python3",
      "display_name": "Python 3"
    },
    "language_info": {
      "name": "python"
    }
  },
  "cells": [
    {
      "cell_type": "markdown",
      "metadata": {
        "id": "view-in-github",
        "colab_type": "text"
      },
      "source": [
        "<a href=\"https://colab.research.google.com/github/hvyrain/bigprobasic/blob/main/%EB%AA%A8%EB%91%90%EC%9D%98%EB%8D%B0%EC%9D%B4%ED%84%B0%EB%B6%84%EC%84%9D04_%EB%8C%80%EC%A4%91%EA%B5%90%ED%86%B5%ED%94%84%EB%A1%9C%EC%A0%9D%ED%8A%B8.ipynb\" target=\"_parent\"><img src=\"https://colab.research.google.com/assets/colab-badge.svg\" alt=\"Open In Colab\"/></a>"
      ]
    },
    {
      "cell_type": "markdown",
      "metadata": {
        "id": "xwawMHAwz7UJ"
      },
      "source": [
        "## 11. 대중교통 데이터 시각화하기"
      ]
    },
    {
      "cell_type": "markdown",
      "metadata": {
        "id": "A6Vy-ArCz_3g"
      },
      "source": [
        "### 01. 대중교통 데이터 내려받기, p158\n",
        "- https://www.t-money.co.kr - 이용안내 - 대중교통 통계자료 - 엑셀 첨부파일 다운로드\n",
        "- 탭 : \n",
        " 1. 버스정류장별 이용현황\n",
        " 2. 지하철 노선별 역별 이용현황\n",
        " 3. 지하철 유무임별 이용현황\n",
        " 4. 지하철 시간대별 이용현황\n",
        "\n",
        "- 지하철 유무임별 이용현황 분석"
      ]
    },
    {
      "cell_type": "markdown",
      "metadata": {
        "id": "JcvcfTfA1CRX"
      },
      "source": [
        "### 02. 지하철 유무임별 이용현황 데이터 정제하기, p161\n",
        "엑셀로 열어 찾기 바꾸기 (Ctrl + F) 로 ','를 빈문자열('')로 변경, 작업일시 열 삭제\n",
        "- 지하철 유무임별 이용현황 탭을 CSV(쉼표로 분리)로 저장, 파일명 subwayfee.csv"
      ]
    },
    {
      "cell_type": "code",
      "metadata": {
        "colab": {
          "base_uri": "https://localhost:8080/"
        },
        "id": "eAYGc4UZ3tNL",
        "outputId": "cae4d959-b183-4603-c3dd-1037e4f3d5c6"
      },
      "source": [
        "# pandas 사용 예\n",
        "import pandas as pd\n",
        "dataf = pd.read_csv('subwayfee.csv')\n",
        "print(dataf.head())\n",
        "print(dataf.dtypes)\n",
        "dataf['무임승차'].mean()"
      ],
      "execution_count": null,
      "outputs": [
        {
          "output_type": "stream",
          "text": [
            "       사용월  호선명  역ID  지하철역    유임승차    유임하차    무임승차    무임하차\n",
            "0  2021-07  1호선    1   서울역  820362  793039  149471  141043\n",
            "1  2021-07  1호선   10   동묘앞  104572  110495  120348  120706\n",
            "2  2021-07  1호선    2    시청  419634  420739   56095   54381\n",
            "3  2021-07  1호선    3    종각  662251  646931  102831   96420\n",
            "4  2021-07  1호선    4  종로3가  373284  345072  232400  219520\n",
            "사용월     object\n",
            "호선명     object\n",
            "역ID      int64\n",
            "지하철역    object\n",
            "유임승차     int64\n",
            "유임하차     int64\n",
            "무임승차     int64\n",
            "무임하차     int64\n",
            "dtype: object\n"
          ],
          "name": "stdout"
        },
        {
          "output_type": "execute_result",
          "data": {
            "text/plain": [
              "44514.306425041184"
            ]
          },
          "metadata": {
            "tags": []
          },
          "execution_count": 35
        }
      ]
    },
    {
      "cell_type": "code",
      "metadata": {
        "colab": {
          "base_uri": "https://localhost:8080/",
          "height": 390
        },
        "id": "SQ54zZtr-fXL",
        "outputId": "5e6d1f5c-f081-4d3e-fd3f-ab5b15ecca98"
      },
      "source": [
        "dataf[(dataf['유임승차']/(dataf['유임승차'] + dataf['무임승차'])) < 0.5][['지하철역', '유임승차', '무임승차']]#.plot(kind='bar')"
      ],
      "execution_count": null,
      "outputs": [
        {
          "output_type": "execute_result",
          "data": {
            "text/html": [
              "<div>\n",
              "<style scoped>\n",
              "    .dataframe tbody tr th:only-of-type {\n",
              "        vertical-align: middle;\n",
              "    }\n",
              "\n",
              "    .dataframe tbody tr th {\n",
              "        vertical-align: top;\n",
              "    }\n",
              "\n",
              "    .dataframe thead th {\n",
              "        text-align: right;\n",
              "    }\n",
              "</style>\n",
              "<table border=\"1\" class=\"dataframe\">\n",
              "  <thead>\n",
              "    <tr style=\"text-align: right;\">\n",
              "      <th></th>\n",
              "      <th>지하철역</th>\n",
              "      <th>유임승차</th>\n",
              "      <th>무임승차</th>\n",
              "    </tr>\n",
              "  </thead>\n",
              "  <tbody>\n",
              "    <tr>\n",
              "      <th>1</th>\n",
              "      <td>동묘앞</td>\n",
              "      <td>104572</td>\n",
              "      <td>120348</td>\n",
              "    </tr>\n",
              "    <tr>\n",
              "      <th>8</th>\n",
              "      <td>제기동</td>\n",
              "      <td>207970</td>\n",
              "      <td>208038</td>\n",
              "    </tr>\n",
              "    <tr>\n",
              "      <th>208</th>\n",
              "      <td>소요산</td>\n",
              "      <td>26732</td>\n",
              "      <td>71151</td>\n",
              "    </tr>\n",
              "    <tr>\n",
              "      <th>289</th>\n",
              "      <td>신원</td>\n",
              "      <td>2709</td>\n",
              "      <td>2837</td>\n",
              "    </tr>\n",
              "    <tr>\n",
              "      <th>294</th>\n",
              "      <td>원덕</td>\n",
              "      <td>4229</td>\n",
              "      <td>5143</td>\n",
              "    </tr>\n",
              "    <tr>\n",
              "      <th>295</th>\n",
              "      <td>용문</td>\n",
              "      <td>27278</td>\n",
              "      <td>40258</td>\n",
              "    </tr>\n",
              "    <tr>\n",
              "      <th>296</th>\n",
              "      <td>지평</td>\n",
              "      <td>835</td>\n",
              "      <td>1181</td>\n",
              "    </tr>\n",
              "    <tr>\n",
              "      <th>324</th>\n",
              "      <td>임진강</td>\n",
              "      <td>331</td>\n",
              "      <td>356</td>\n",
              "    </tr>\n",
              "    <tr>\n",
              "      <th>342</th>\n",
              "      <td>상천</td>\n",
              "      <td>3990</td>\n",
              "      <td>4340</td>\n",
              "    </tr>\n",
              "    <tr>\n",
              "      <th>344</th>\n",
              "      <td>굴봉산</td>\n",
              "      <td>2066</td>\n",
              "      <td>2813</td>\n",
              "    </tr>\n",
              "    <tr>\n",
              "      <th>345</th>\n",
              "      <td>백양리</td>\n",
              "      <td>1920</td>\n",
              "      <td>1979</td>\n",
              "    </tr>\n",
              "  </tbody>\n",
              "</table>\n",
              "</div>"
            ],
            "text/plain": [
              "    지하철역    유임승차    무임승차\n",
              "1    동묘앞  104572  120348\n",
              "8    제기동  207970  208038\n",
              "208  소요산   26732   71151\n",
              "289   신원    2709    2837\n",
              "294   원덕    4229    5143\n",
              "295   용문   27278   40258\n",
              "296   지평     835    1181\n",
              "324  임진강     331     356\n",
              "342   상천    3990    4340\n",
              "344  굴봉산    2066    2813\n",
              "345  백양리    1920    1979"
            ]
          },
          "metadata": {
            "tags": []
          },
          "execution_count": 56
        }
      ]
    },
    {
      "cell_type": "code",
      "metadata": {
        "colab": {
          "base_uri": "https://localhost:8080/",
          "height": 292
        },
        "id": "8pHA0k1e5DKa",
        "outputId": "32dadfc5-1e08-4d37-caae-09c73a03bfac"
      },
      "source": [
        "dataf['무임승차'].plot(kind='bar')"
      ],
      "execution_count": null,
      "outputs": [
        {
          "output_type": "execute_result",
          "data": {
            "text/plain": [
              "<matplotlib.axes._subplots.AxesSubplot at 0x7fed6d2f5b10>"
            ]
          },
          "metadata": {
            "tags": []
          },
          "execution_count": 8
        },
        {
          "output_type": "display_data",
          "data": {
            "image/png": "[encoded data removed]",
            "text/plain": [
              "<Figure size 432x288 with 1 Axes>"
            ]
          },
          "metadata": {
            "tags": [],
            "needs_background": "light"
          }
        }
      ]
    },
    {
      "cell_type": "code",
      "metadata": {
        "id": "ZIgDqeBc5oEC"
      },
      "source": [
        "import csv\n",
        "f = open('subwayfee.csv')\n",
        "data = csv.reader(f)\n",
        "#datalist = list(data)\n",
        "#print(datalist[:2])\n",
        "next(data)\n",
        "for row in data :\n",
        "  for i in range(4,8) :\n",
        "    row[i] = int(row[i])\n",
        "  print(row)\n"
      ],
      "execution_count": null,
      "outputs": []
    },
    {
      "cell_type": "markdown",
      "metadata": {
        "id": "YlhstHam7HIf"
      },
      "source": [
        "### 03. 유임 승차 비율이 가장 높은 역은 어디일까?, p165\n",
        "- 비율 = 유임 / (유임 + 무임)"
      ]
    },
    {
      "cell_type": "code",
      "metadata": {
        "colab": {
          "base_uri": "https://localhost:8080/"
        },
        "id": "Pgiz0Ric7_3e",
        "outputId": "5cdce381-c9e9-487b-fc51-3d9f105b4e7e"
      },
      "source": [
        "# p167\n",
        "import csv\n",
        "f = open('subwayfee.csv')\n",
        "data = csv.reader(f)\n",
        "next(data)\n",
        "mx = 0\n",
        "rate = 0\n",
        "for row in data :\n",
        "  # 정수 변환\n",
        "  for i in range(4, 8) :\n",
        "    row[i] = int(row[i])\n",
        "  if row[6] != 0 :\n",
        "    rate = row[4] / row[6]\n",
        "    if rate > mx : \n",
        "      mx = rate\n",
        "      print(row, round(rate, 2))"
      ],
      "execution_count": null,
      "outputs": [
        {
          "output_type": "stream",
          "text": [
            "['2021-07', '1호선', '1', '서울역', 820362, 793039, 149471, 141043] 5.49\n",
            "['2021-07', '1호선', '2', '시청', 419634, 420739, 56095, 54381] 7.48\n",
            "['2021-07', '2호선', '11', '시청', 458506, 446374, 40251, 36060] 11.39\n",
            "['2021-07', '2호선', '19', '한양대', 144112, 147728, 9698, 9838] 14.86\n",
            "['2021-07', '경부선', '121', '서울역', 129807, 43516, 7688, 1882] 16.88\n",
            "['2021-07', '6호선', '445', '연신내', 27, 0, 1, 0] 27.0\n"
          ],
          "name": "stdout"
        }
      ]
    },
    {
      "cell_type": "code",
      "metadata": {
        "colab": {
          "base_uri": "https://localhost:8080/"
        },
        "id": "pJYus2RQ8u7F",
        "outputId": "31518458-ef58-41a2-cf7c-408073cfbf87"
      },
      "source": [
        "# p169\n",
        "import csv\n",
        "f = open('subwayfee.csv')\n",
        "data = csv.reader(f)\n",
        "next(data)\n",
        "mx = 0\n",
        "rate = 0\n",
        "for row in data :\n",
        "  # 정수 변환\n",
        "  for i in range(4, 8) :\n",
        "    row[i] = int(row[i])\n",
        "  if row[6] != 0 and (row[4] + row[6]) > 10000 :\n",
        "    rate = row[4] / (row[4] + row[6])\n",
        "    if rate > mx : \n",
        "      mx = rate\n",
        "      print(row, round(rate, 4))"
      ],
      "execution_count": null,
      "outputs": [
        {
          "output_type": "stream",
          "text": [
            "['2021-07', '1호선', '1', '서울역', 820362, 793039, 149471, 141043] 0.8459\n",
            "['2021-07', '1호선', '2', '시청', 419634, 420739, 56095, 54381] 0.8821\n",
            "['2021-07', '2호선', '11', '시청', 458506, 446374, 40251, 36060] 0.9193\n",
            "['2021-07', '2호선', '19', '한양대', 144112, 147728, 9698, 9838] 0.9369\n",
            "['2021-07', '경부선', '121', '서울역', 129807, 43516, 7688, 1882] 0.9441\n"
          ],
          "name": "stdout"
        }
      ]
    },
    {
      "cell_type": "code",
      "metadata": {
        "colab": {
          "base_uri": "https://localhost:8080/"
        },
        "id": "2JO9mRX59bxR",
        "outputId": "ec95c299-c0e0-4291-b905-267d007f482a"
      },
      "source": [
        "# p171\n",
        "import csv\n",
        "f = open('subwayfee.csv')\n",
        "data = csv.reader(f)\n",
        "next(data)\n",
        "mx = 0\n",
        "rate = 0\n",
        "mx_station = ''\n",
        "for row in data :\n",
        "  # 정수 변환\n",
        "  for i in range(4, 8) :\n",
        "    row[i] = int(row[i])\n",
        "  if row[6] != 0 and (row[4] + row[6]) > 10000 :\n",
        "    rate = row[4] / (row[4] + row[6])\n",
        "    if rate > mx : \n",
        "      mx = rate\n",
        "      mx_station = row[3] + ' ' + row[1]\n",
        "\n",
        "print(f'{mx_station} {mx*100:5.2f}%')"
      ],
      "execution_count": null,
      "outputs": [
        {
          "output_type": "stream",
          "text": [
            "서울역 경부선 94.41%\n"
          ],
          "name": "stdout"
        }
      ]
    },
    {
      "cell_type": "markdown",
      "metadata": {
        "id": "Ou8LIGMf4f-o"
      },
      "source": [
        "### 04. 유무임 승하차 인원이 가장 많은 역은 어디일까, p172\n",
        "- 유무임 승하차 4가지 종류의 인원이 가장 많은 역 찾기\n",
        "- 4개의 요소를 가진 리스트로 저장\n",
        "- mx = [0] * 4\n",
        "- mx_station = [''] * 4"
      ]
    },
    {
      "cell_type": "code",
      "metadata": {
        "colab": {
          "base_uri": "https://localhost:8080/"
        },
        "id": "lqFzNliO5A_i",
        "outputId": "ab22fad6-9e1d-4914-bb50-a70a7aa22de1"
      },
      "source": [
        "# p174\n",
        "import csv\n",
        "f = open('subwayfee.csv')\n",
        "data = csv.reader(f)\n",
        "next(data)\n",
        "mx = [0] * 4\n",
        "mx_station = [''] * 4\n",
        "label = ['유임승차', '유임하차', '무임승차', '무임하차']\n",
        "for row in data :\n",
        "  # 정수 변환\n",
        "  for i in range(4, 8) :\n",
        "    row[i] = int(row[i])\n",
        "    if row[i] > mx[i-4] :\n",
        "      mx[i-4] = row[i]\n",
        "      mx_station[i-4] = row[3] + ' ' + row[1]\n",
        "\n",
        "for i in range(4) :\n",
        "  print(f'{label[i]} : {mx_station[i]} {mx[i]:,}명')"
      ],
      "execution_count": null,
      "outputs": [
        {
          "output_type": "stream",
          "text": [
            "유임승차 : 강남 2호선 1,848,689명\n",
            "유임하차 : 강남 2호선 1,816,406명\n",
            "무임승차 : 종로3가 1호선 232,400명\n",
            "무임하차 : 제기동 1호선 223,315명\n"
          ],
          "name": "stdout"
        }
      ]
    },
    {
      "cell_type": "markdown",
      "metadata": {
        "id": "3hY2MpQ_6eTF"
      },
      "source": [
        "### 05. 모든 역의 유무임 승하차 비율은 어떻게 될까, p175\n",
        "- 모든 역에 대하여 비율을 파이 차트로 그린다.\n",
        "- plt.savefig(파일명.png) 함수를 사용하여 저장한다.\n",
        "\n",
        "※ 역 갯수 : 606개"
      ]
    },
    {
      "cell_type": "code",
      "metadata": {
        "colab": {
          "base_uri": "https://localhost:8080/"
        },
        "id": "7zPUPN066dxt",
        "outputId": "c9a9e505-aeda-4b3e-bed8-30378c7deae3"
      },
      "source": [
        "# 한글 깨짐 방지\n",
        "!sudo apt-get install -y fonts-nanum\n",
        "!sudo fc-cache -fv\n",
        "!rm ~/.cache/matplotlib -rf"
      ],
      "execution_count": null,
      "outputs": [
        {
          "output_type": "stream",
          "text": [
            "Reading package lists... Done\n",
            "Building dependency tree       \n",
            "Reading state information... Done\n",
            "The following NEW packages will be installed:\n",
            "  fonts-nanum\n",
            "0 upgraded, 1 newly installed, 0 to remove and 40 not upgraded.\n",
            "Need to get 9,604 kB of archives.\n",
            "After this operation, 29.5 MB of additional disk space will be used.\n",
            "Get:1 http://archive.ubuntu.com/ubuntu bionic/universe amd64 fonts-nanum all 20170925-1 [9,604 kB]\n",
            "Fetched 9,604 kB in 1s (6,953 kB/s)\n",
            "debconf: unable to initialize frontend: Dialog\n",
            "debconf: (No usable dialog-like program is installed, so the dialog based frontend cannot be used. at /usr/share/perl5/Debconf/FrontEnd/Dialog.pm line 76, <> line 1.)\n",
            "debconf: falling back to frontend: Readline\n",
            "debconf: unable to initialize frontend: Readline\n",
            "debconf: (This frontend requires a controlling tty.)\n",
            "debconf: falling back to frontend: Teletype\n",
            "dpkg-preconfigure: unable to re-open stdin: \n",
            "Selecting previously unselected package fonts-nanum.\n",
            "(Reading database ... 160837 files and directories currently installed.)\n",
            "Preparing to unpack .../fonts-nanum_20170925-1_all.deb ...\n",
            "Unpacking fonts-nanum (20170925-1) ...\n",
            "Setting up fonts-nanum (20170925-1) ...\n",
            "Processing triggers for fontconfig (2.12.6-0ubuntu2) ...\n",
            "/usr/share/fonts: caching, new cache contents: 0 fonts, 1 dirs\n",
            "/usr/share/fonts/truetype: caching, new cache contents: 0 fonts, 3 dirs\n",
            "/usr/share/fonts/truetype/humor-sans: caching, new cache contents: 1 fonts, 0 dirs\n",
            "/usr/share/fonts/truetype/liberation: caching, new cache contents: 16 fonts, 0 dirs\n",
            "/usr/share/fonts/truetype/nanum: caching, new cache contents: 10 fonts, 0 dirs\n",
            "/usr/local/share/fonts: caching, new cache contents: 0 fonts, 0 dirs\n",
            "/root/.local/share/fonts: skipping, no such directory\n",
            "/root/.fonts: skipping, no such directory\n",
            "/var/cache/fontconfig: cleaning cache directory\n",
            "/root/.cache/fontconfig: not cleaning non-existent cache directory\n",
            "/root/.fontconfig: not cleaning non-existent cache directory\n",
            "fc-cache: succeeded\n"
          ],
          "name": "stdout"
        }
      ]
    },
    {
      "cell_type": "code",
      "metadata": {
        "id": "CCOFu4QD8tY9",
        "colab": {
          "base_uri": "https://localhost:8080/"
        },
        "outputId": "5780335c-ae48-407f-a380-ac8a681a30e8"
      },
      "source": [
        "!ls /usr/share/fonts/truetype/nanum"
      ],
      "execution_count": null,
      "outputs": [
        {
          "output_type": "stream",
          "text": [
            "NanumBarunGothicBold.ttf  NanumMyeongjoBold.ttf  NanumSquareRoundR.ttf\n",
            "NanumBarunGothic.ttf\t  NanumMyeongjo.ttf\t NanumSquareR.ttf\n",
            "NanumGothicBold.ttf\t  NanumSquareB.ttf\n",
            "NanumGothic.ttf\t\t  NanumSquareRoundB.ttf\n"
          ],
          "name": "stdout"
        }
      ]
    },
    {
      "cell_type": "code",
      "metadata": {
        "id": "62nka7EU7r9s"
      },
      "source": [
        "# p178, 10개만 저장해 본다.\n",
        "import csv\n",
        "import matplotlib.pyplot as plt\n",
        "\n",
        "f = open('subwayfee.csv')\n",
        "data = csv.reader(f)\n",
        "next(data)\n",
        "label = ['유임승차', '유임하차', '무임승차', '무임하차']\n",
        "c = ['red','green','blue','yellow']\n",
        "plt.rc('font', family='NanumGothic')\n",
        "\n",
        "count = 1\n",
        "max_no = 5\n",
        "for row in data :\n",
        "  for i in range(4, 8) :\n",
        "    row[i] = int(row[i])\n",
        "    plt.figure(dpi=300)\n",
        "    plt.title(row[3] + ' ' + row[1])\n",
        "    plt.pie(row[4:8], labels=label, colors=c, autopct='%1.f%%')\n",
        "    plt.axis('equal')\n",
        "    plt.savefig(row[3] + ' ' + row[1] + '.png')\n",
        "    #plt.show()\n",
        "  if count >= max_no :\n",
        "      break\n",
        "  count += 1"
      ],
      "execution_count": null,
      "outputs": []
    },
    {
      "cell_type": "markdown",
      "metadata": {
        "id": "1n1MhlC8-whZ"
      },
      "source": [
        "## 12. 지하철 시간대별 데이터 시각화하기\n",
        "- 출근 시간대 사람들이 가장 많이 타고 내리는 역은?\n",
        "- 지하철 시간대별로 가장 많은 사람이 승하차하는 역은?\n"
      ]
    },
    {
      "cell_type": "markdown",
      "metadata": {
        "id": "tMxcE5CoAUM2"
      },
      "source": [
        "### 01. 지하철 시간대별 이용 현황 데이터 정제하기, p180\n",
        "- 지하철 시간대별 이용현황 탭 선택\n",
        "- ','를 빈 문자열 ''로 치환, 작업일시 열 삭제\n",
        "- 데이터를 subwaytime.csv로 내보내기\n",
        "- 상위 두 행 건너뛰기\n",
        "- map(int, row[i]) 함수로 정수 일괄 변경"
      ]
    },
    {
      "cell_type": "code",
      "metadata": {
        "colab": {
          "base_uri": "https://localhost:8080/"
        },
        "id": "wkRxxVGu_mXg",
        "outputId": "e55099e3-215e-4540-a0b1-9427cd18939e"
      },
      "source": [
        "import csv\n",
        "f = open('subwaytime.csv')\n",
        "data = csv.reader(f)\n",
        "count = 0\n",
        "for row in data :\n",
        "  print(row)\n",
        "  if count > 10 : break\n",
        "  count += 1"
      ],
      "execution_count": null,
      "outputs": [
        {
          "output_type": "stream",
          "text": [
            "['\\ufeff사용월', '호선명', '역ID', '지하철역', '04:00:00~04:59:59', '', '05:00:00~05:59:59', '', '06:00:00~06:59:59', '', '07:00:00~07:59:59', '', '08:00:00~08:59:59', '', '09:00:00~09:59:59', '', '10:00:00~10:59:59', '', '11:00:00~11:59:59', '', '12:00:00~12:59:59', '', '13:00:00~13:59:59', '', '14:00:00~14:59:59', '', '15:00:00~15:59:59', '', '16:00:00~16:59:59', '', '17:00:00~17:59:59', '', '18:00:00~18:59:59', '', '19:00:00~19:59:59', '', '20:00:00~20:59:59', '', '21:00:00~21:59:59', '', '22:00:00~22:59:59', '', '23:00:00~23:59:59', '', '00:00:00~00:59:59', '', '01:00:00~01:59:59', '', '02:00:00~02:59:59', '', '03:00:00~03:59:59', '']\n",
            "['', '', '', '', '승차', '하차', '승차', '하차', '승차', '하차', '승차', '하차', '승차', '하차', '승차', '하차', '승차', '하차', '승차', '하차', '승차', '하차', '승차', '하차', '승차', '하차', '승차', '하차', '승차', '하차', '승차', '하차', '승차', '하차', '승차', '하차', '승차', '하차', '승차', '하차', '승차', '하차', '승차', '하차', '승차', '하차', '승차', '하차', '승차', '하차', '승차', '하차']\n",
            "['2021-07', '1호선', '1', '서울역', '654', '6', '8652', '6342', '11542', '33836', '34033', '80382', '52613', '163620', '38605', '102598', '35481', '51052', '41070', '42933', '48222', '46545', '49227', '45640', '44779', '41737', '55778', '44392', '65517', '45218', '107562', '55211', '163496', '64791', '73905', '40168', '47149', '25097', '50724', '22084', '32275', '16055', '8520', '5824', '29', '551', '0', '0', '0', '0', '0', '0']\n",
            "['2021-07', '1호선', '10', '동묘앞', '92', '0', '3197', '1077', '3575', '4910', '5452', '8608', '8526', '21141', '7927', '15956', '9454', '17084', '13490', '20768', '17843', '21002', '21519', '22088', '22076', '20878', '23178', '18825', '23518', '15108', '21926', '12554', '19733', '9844', '9437', '6226', '5504', '4051', '4732', '3632', '2911', '4455', '827', '1955', '3', '1039', '0', '0', '0', '0', '0', '0']\n",
            "['2021-07', '1호선', '2', '시청', '13', '0', '1803', '4616', '2797', '19665', '6210', '57888', '7368', '152937', '7995', '66434', '8964', '25943', '12915', '22965', '13811', '20773', '16626', '19677', '21240', '16066', '27115', '14014', '32142', '11942', '62498', '12167', '128494', '12588', '43231', '6198', '31976', '3934', '29470', '3605', '18039', '2636', '3016', '988', '6', '84', '0', '0', '0', '0', '0', '0']\n",
            "['2021-07', '1호선', '3', '종각', '69', '0', '2246', '4062', '2941', '22625', '5346', '86386', '7986', '196740', '10307', '112605', '14487', '47829', '21935', '40248', '26285', '34028', '31949', '36446', '37986', '30986', '46104', '24863', '52224', '23690', '104818', '25848', '175390', '28561', '68712', '14364', '53659', '6064', '59416', '4000', '38440', '2811', '4775', '1092', '7', '103', '0', '0', '0', '0', '0', '0']\n",
            "['2021-07', '1호선', '4', '종로3가', '171', '29', '3059', '3686', '2974', '13638', '4445', '25723', '7594', '67165', '11416', '71195', '18593', '56432', '31183', '51655', '36417', '47329', '40487', '48693', '40692', '39346', '47224', '33235', '53356', '28984', '64884', '25006', '89105', '25452', '49389', '12528', '34524', '5428', '37990', '3841', '28438', '3355', '3725', '1530', '18', '342', '0', '0', '0', '0', '0', '0']\n",
            "['2021-07', '1호선', '5', '종로5가', '25', '0', '1600', '3737', '2459', '16133', '4807', '38294', '7293', '97378', '11801', '60714', '19095', '46454', '26873', '43149', '30801', '38108', '34528', '35449', '40231', '34763', '45046', '29548', '50149', '24470', '66537', '20831', '90510', '17243', '41528', '10264', '23971', '4808', '21887', '3571', '13097', '2710', '1794', '1291', '10', '317', '0', '0', '0', '0', '0', '0']\n",
            "['2021-07', '1호선', '6', '동대문', '665', '13', '13154', '2112', '8755', '6552', '13558', '11917', '17863', '23651', '16508', '21375', '15386', '18520', '16582', '19225', '18619', '18320', '19416', '16779', '19194', '17200', '20500', '16363', '21281', '15222', '21579', '15609', '21222', '16858', '14315', '17281', '10938', '11918', '10977', '9068', '8289', '8761', '2095', '7234', '7', '1394', '0', '0', '0', '1', '0', '0']\n",
            "['2021-07', '1호선', '7', '신설동', '295', '14', '7940', '3120', '7834', '10994', '15927', '23882', '22747', '59304', '15492', '31228', '14059', '19704', '15374', '15903', '15936', '15362', '17842', '15703', '16767', '14135', '18680', '15222', '24796', '15990', '38122', '18668', '54750', '23752', '19516', '16274', '12523', '9911', '10906', '9102', '7062', '8774', '1497', '4104', '21', '437', '1', '0', '0', '0', '0', '0']\n",
            "['2021-07', '1호선', '8', '제기동', '391', '4', '5087', '2344', '8503', '9549', '20256', '19869', '29625', '40468', '22319', '35926', '26202', '37334', '30999', '35023', '33138', '30976', '32087', '29712', '31476', '30756', '32234', '29904', '32287', '25186', '35754', '22731', '35339', '24909', '15588', '17333', '9232', '10394', '7823', '9100', '6018', '8940', '1639', '3770', '11', '292', '0', '0', '0', '0', '0', '0']\n",
            "['2021-07', '1호선', '9', '청량리(서울시립대입구)', '905', '19', '10502', '5211', '14093', '20896', '33371', '16224', '41384', '34044', '28334', '31662', '28104', '33695', '30729', '34343', '33092', '32927', '33152', '33196', '33028', '34324', '35321', '35726', '43566', '34010', '42912', '35887', '38632', '44112', '20451', '29361', '15020', '16071', '11228', '14140', '6743', '13598', '1572', '5488', '16', '542', '0', '0', '0', '0', '0', '0']\n"
          ],
          "name": "stdout"
        }
      ]
    },
    {
      "cell_type": "code",
      "metadata": {
        "colab": {
          "base_uri": "https://localhost:8080/"
        },
        "id": "cswXE4fRAuRW",
        "outputId": "e97254de-2eb9-4cfb-d577-2f61c848febe"
      },
      "source": [
        "import csv\n",
        "f = open('subwaytime.csv')\n",
        "data = csv.reader(f)\n",
        "next(data)\n",
        "next(data)\n",
        "\n",
        "count = 0\n",
        "for row in data :\n",
        "  row[4:] = map(int, row[4:])\n",
        "  if count < 10 :\n",
        "    print(row)\n",
        "  count += 1"
      ],
      "execution_count": null,
      "outputs": [
        {
          "output_type": "stream",
          "text": [
            "['2021-07', '1호선', '1', '서울역', 654, 6, 8652, 6342, 11542, 33836, 34033, 80382, 52613, 163620, 38605, 102598, 35481, 51052, 41070, 42933, 48222, 46545, 49227, 45640, 44779, 41737, 55778, 44392, 65517, 45218, 107562, 55211, 163496, 64791, 73905, 40168, 47149, 25097, 50724, 22084, 32275, 16055, 8520, 5824, 29, 551, 0, 0, 0, 0, 0, 0]\n",
            "['2021-07', '1호선', '10', '동묘앞', 92, 0, 3197, 1077, 3575, 4910, 5452, 8608, 8526, 21141, 7927, 15956, 9454, 17084, 13490, 20768, 17843, 21002, 21519, 22088, 22076, 20878, 23178, 18825, 23518, 15108, 21926, 12554, 19733, 9844, 9437, 6226, 5504, 4051, 4732, 3632, 2911, 4455, 827, 1955, 3, 1039, 0, 0, 0, 0, 0, 0]\n",
            "['2021-07', '1호선', '2', '시청', 13, 0, 1803, 4616, 2797, 19665, 6210, 57888, 7368, 152937, 7995, 66434, 8964, 25943, 12915, 22965, 13811, 20773, 16626, 19677, 21240, 16066, 27115, 14014, 32142, 11942, 62498, 12167, 128494, 12588, 43231, 6198, 31976, 3934, 29470, 3605, 18039, 2636, 3016, 988, 6, 84, 0, 0, 0, 0, 0, 0]\n",
            "['2021-07', '1호선', '3', '종각', 69, 0, 2246, 4062, 2941, 22625, 5346, 86386, 7986, 196740, 10307, 112605, 14487, 47829, 21935, 40248, 26285, 34028, 31949, 36446, 37986, 30986, 46104, 24863, 52224, 23690, 104818, 25848, 175390, 28561, 68712, 14364, 53659, 6064, 59416, 4000, 38440, 2811, 4775, 1092, 7, 103, 0, 0, 0, 0, 0, 0]\n",
            "['2021-07', '1호선', '4', '종로3가', 171, 29, 3059, 3686, 2974, 13638, 4445, 25723, 7594, 67165, 11416, 71195, 18593, 56432, 31183, 51655, 36417, 47329, 40487, 48693, 40692, 39346, 47224, 33235, 53356, 28984, 64884, 25006, 89105, 25452, 49389, 12528, 34524, 5428, 37990, 3841, 28438, 3355, 3725, 1530, 18, 342, 0, 0, 0, 0, 0, 0]\n",
            "['2021-07', '1호선', '5', '종로5가', 25, 0, 1600, 3737, 2459, 16133, 4807, 38294, 7293, 97378, 11801, 60714, 19095, 46454, 26873, 43149, 30801, 38108, 34528, 35449, 40231, 34763, 45046, 29548, 50149, 24470, 66537, 20831, 90510, 17243, 41528, 10264, 23971, 4808, 21887, 3571, 13097, 2710, 1794, 1291, 10, 317, 0, 0, 0, 0, 0, 0]\n",
            "['2021-07', '1호선', '6', '동대문', 665, 13, 13154, 2112, 8755, 6552, 13558, 11917, 17863, 23651, 16508, 21375, 15386, 18520, 16582, 19225, 18619, 18320, 19416, 16779, 19194, 17200, 20500, 16363, 21281, 15222, 21579, 15609, 21222, 16858, 14315, 17281, 10938, 11918, 10977, 9068, 8289, 8761, 2095, 7234, 7, 1394, 0, 0, 0, 1, 0, 0]\n",
            "['2021-07', '1호선', '7', '신설동', 295, 14, 7940, 3120, 7834, 10994, 15927, 23882, 22747, 59304, 15492, 31228, 14059, 19704, 15374, 15903, 15936, 15362, 17842, 15703, 16767, 14135, 18680, 15222, 24796, 15990, 38122, 18668, 54750, 23752, 19516, 16274, 12523, 9911, 10906, 9102, 7062, 8774, 1497, 4104, 21, 437, 1, 0, 0, 0, 0, 0]\n",
            "['2021-07', '1호선', '8', '제기동', 391, 4, 5087, 2344, 8503, 9549, 20256, 19869, 29625, 40468, 22319, 35926, 26202, 37334, 30999, 35023, 33138, 30976, 32087, 29712, 31476, 30756, 32234, 29904, 32287, 25186, 35754, 22731, 35339, 24909, 15588, 17333, 9232, 10394, 7823, 9100, 6018, 8940, 1639, 3770, 11, 292, 0, 0, 0, 0, 0, 0]\n",
            "['2021-07', '1호선', '9', '청량리(서울시립대입구)', 905, 19, 10502, 5211, 14093, 20896, 33371, 16224, 41384, 34044, 28334, 31662, 28104, 33695, 30729, 34343, 33092, 32927, 33152, 33196, 33028, 34324, 35321, 35726, 43566, 34010, 42912, 35887, 38632, 44112, 20451, 29361, 15020, 16071, 11228, 14140, 6743, 13598, 1572, 5488, 16, 542, 0, 0, 0, 0, 0, 0]\n"
          ],
          "name": "stdout"
        }
      ]
    },
    {
      "cell_type": "markdown",
      "metadata": {
        "id": "9IOtAZb3BFFu"
      },
      "source": [
        "### 02. 출근 시간대 사람들이 가장 많이 타고 내리는 역은 어디일까, p185\n",
        "- 아침 7시 승차 데이터 위치 : 10번 인덱스\n",
        "- 막대 그래프로 표현\n",
        "- sort() 함수로 정렬한 후 막대 그래프 출력"
      ]
    },
    {
      "cell_type": "code",
      "metadata": {
        "colab": {
          "base_uri": "https://localhost:8080/"
        },
        "id": "lTaqVFVvBXYz",
        "outputId": "f1f08d70-550a-4f35-826a-7ae683335704"
      },
      "source": [
        "# p185\n",
        "import csv\n",
        "f = open('subwaytime.csv')\n",
        "data = csv.reader(f)\n",
        "next(data)\n",
        "next(data)\n",
        "result = []\n",
        "\n",
        "for row in data :\n",
        "  row[4:] = map(int, row[4:])\n",
        "  result.append(row[10])\n",
        "\n",
        "print(len(result))\n",
        "print(result)"
      ],
      "execution_count": null,
      "outputs": [
        {
          "output_type": "stream",
          "text": [
            "607\n",
            "[34033, 5452, 6210, 5346, 4445, 4807, 13558, 15927, 20256, 33371, 4359, 7643, 4872, 2967, 6033, 23780, 34140, 22713, 4487, 16613, 20378, 48460, 61180, 72218, 33832, 101659, 46493, 14604, 13714, 18658, 13359, 35242, 21346, 14120, 20269, 65492, 71387, 115574, 74203, 190957, 82096, 124041, 60413, 117522, 37023, 35547, 41992, 40143, 52333, 30417, 21435, 25492, 14020, 6751, 5782, 3143, 2931, 28325, 44091, 4504, 17822, 75622, 120495, 46716, 58950, 55881, 13190, 14079, 12485, 5427, 1506, 1783, 0, 5001, 22636, 23633, 19699, 13653, 9011, 10093, 22046, 6879, 24159, 31044, 14313, 7524, 20127, 3153, 23133, 19005, 30585, 17251, 19827, 22512, 102867, 43987, 85621, 72177, 41300, 27443, 16022, 5147, 5668, 8043, 3517, 4313, 10623, 14625, 5607, 9645, 11038, 4146, 41258, 60810, 2200, 50977, 80472, 49421, 84129, 112934, 8119, 10439, 17380, 14910, 26337, 35530, 9437, 21460, 33481, 13458, 42462, 35821, 29377, 74485, 23621, 76355, 17181, 27649, 59986, 35946, 63940, 37240, 13220, 45488, 9041, 10366, 20200, 2582, 11869, 11400, 7139, 23213, 5155, 1529, 11924, 7909, 23635, 9401, 11373, 81808, 47102, 109964, 97808, 97351, 75907, 26700, 50588, 56456, 36243, 37421, 5321, 24423, 30984, 36243, 21929, 5834, 21378, 39162, 15845, 6669, 2918, 4332, 26, 6020, 23127, 25805, 15780, 33293, 23017, 29656, 22884, 19849, 0, 29061, 18355, 20536, 25221, 51535, 43950, 22592, 16937, 28592, 11941, 16847, 20116, 8238, 4469, 5223, 3262, 50899, 16032, 15830, 67201, 29411, 52765, 28055, 18176, 18507, 6068, 16833, 28693, 16900, 16894, 1825, 1132, 19309, 17653, 67966, 49783, 76162, 4276, 17534, 7478, 2460, 7835, 7999, 21347, 0, 21117, 12783, 4586, 6246, 4309, 16568, 39101, 49033, 47639, 30001, 16160, 24207, 22982, 28184, 12499, 7211, 38204, 18663, 16383, 32686, 17959, 14895, 15059, 42107, 17147, 24942, 7646, 35501, 0, 68245, 40589, 50792, 6357, 20350, 14895, 8094, 25377, 52826, 51402, 20882, 19938, 26371, 4899, 51534, 45027, 1752, 23297, 11883, 1386, 1460, 5652, 264, 1864, 1685, 836, 5455, 700, 3006, 371, 2119, 4924, 4884, 2284, 6751, 1840, 671, 4260, 2972, 17100, 3612, 3264, 16088, 34628, 14064, 1504, 31199, 21444, 41039, 32500, 23508, 26430, 15862, 17755, 2056, 2363, 14732, 0, 2450, 3700, 1256, 8244, 0, 0, 4976, 16699, 12004, 18357, 15431, 4698, 27018, 7402, 13899, 890, 3125, 561, 2360, 165, 78, 375, 345, 3337, 1270, 11194, 7203, 1228, 765, 18406, 103, 9341, 14252, 13287, 6527, 1218, 12690, 13835, 8903, 21293, 12169, 2873, 2207, 4220, 3903, 10117, 31973, 11939, 6046, 5031, 6567, 4419, 848, 4544, 25407, 20162, 4761, 19506, 21864, 24009, 49240, 104983, 112411, 60067, 52387, 42407, 20882, 6527, 18391, 11819, 8892, 4420, 21771, 18845, 15257, 5860, 15482, 7761, 2755, 956, 1004, 6305, 18511, 28154, 5511, 14299, 51682, 48218, 30950, 40260, 35538, 25108, 50502, 20142, 32561, 32598, 27854, 81132, 22271, 10574, 17381, 8227, 21779, 30553, 28156, 11199, 57389, 9632, 17565, 15851, 66618, 14805, 9605, 12120, 1, 27046, 50051, 36152, 38540, 7834, 34606, 23512, 11982, 7633, 16125, 13777, 17859, 14829, 7206, 4080, 8037, 2864, 3821, 4711, 6274, 6099, 7777, 12643, 17372, 7567, 19150, 35583, 22329, 32933, 44675, 16871, 55028, 44498, 0, 14073, 48583, 48515, 57795, 34206, 56145, 62727, 33630, 19968, 33093, 34940, 48962, 54111, 51481, 22333, 28557, 31853, 16854, 11205, 18578, 9008, 5798, 7681, 8154, 6048, 9304, 15525, 24483, 34378, 33347, 30589, 25774, 48040, 20730, 38444, 14840, 28762, 20372, 73138, 76679, 45668, 46329, 30558, 15717, 22990, 41930, 40693, 36461, 24067, 33932, 33430, 71995, 37474, 28281, 9787, 8177, 14288, 21161, 10097, 20405, 42044, 29547, 21951, 46569, 33697, 11994, 14839, 8292, 13338, 7722, 8634, 24612, 25580, 26655, 65016, 18593, 37562, 66514, 15682, 17641, 44383, 3305, 7975, 4477, 56070, 14134, 14454, 4779, 3762, 4677, 13880, 8115, 28564, 8860, 4979, 7930, 16622, 10653, 6385, 46000, 31475, 27582, 17840, 1622, 3425, 2168, 10384, 6107, 7772, 4372, 7362, 7701, 17552, 14186, 20300, 10191, 6521, 13561, 3497, 33746, 8034, 9006, 7498, 14780, 11313, 6023, 6366, 24959, 17968, 12334, 3244, 1858, 1279]\n"
          ],
          "name": "stdout"
        }
      ]
    },
    {
      "cell_type": "code",
      "metadata": {
        "colab": {
          "base_uri": "https://localhost:8080/",
          "height": 269
        },
        "id": "vN8f3qqVBmNN",
        "outputId": "0f3c377f-f688-4058-885e-e745e64001c8"
      },
      "source": [
        "# p186\n",
        "import matplotlib.pyplot as plt\n",
        "plt.bar(range(len(result)), result)\n",
        "plt.show()"
      ],
      "execution_count": null,
      "outputs": [
        {
          "output_type": "display_data",
          "data": {
            "image/png": "[encoded data removed]",
            "text/plain": [
              "<Figure size 432x288 with 1 Axes>"
            ]
          },
          "metadata": {
            "tags": [],
            "needs_background": "light"
          }
        }
      ]
    },
    {
      "cell_type": "code",
      "metadata": {
        "colab": {
          "base_uri": "https://localhost:8080/",
          "height": 269
        },
        "id": "FZdoRwcJB0ed",
        "outputId": "a6e26392-c804-4aac-81f8-8480948911e1"
      },
      "source": [
        "# p187\n",
        "result.sort()\n",
        "plt.figure(figsize=(10,4))\n",
        "plt.bar(range(len(result)), result)\n",
        "\n",
        "plt.show()"
      ],
      "execution_count": null,
      "outputs": [
        {
          "output_type": "display_data",
          "data": {
            "image/png": "[encoded data removed]",
            "text/plain": [
              "<Figure size 720x288 with 1 Axes>"
            ]
          },
          "metadata": {
            "tags": [],
            "needs_background": "light"
          }
        }
      ]
    },
    {
      "cell_type": "code",
      "metadata": {
        "colab": {
          "base_uri": "https://localhost:8080/",
          "height": 265
        },
        "id": "4G-tmnIBB_rt",
        "outputId": "76876056-7501-4f9c-ebb0-813ced904793"
      },
      "source": [
        "# p187\n",
        "import csv\n",
        "f = open('subwaytime.csv')\n",
        "data = csv.reader(f)\n",
        "next(data)\n",
        "next(data)\n",
        "\n",
        "result = []\n",
        "for row in data :\n",
        "  row[4:] = map(int, row[4:])\n",
        "  result.append(sum(row[10:15:2])) # 10, 12, 14\n",
        "result.sort()\n",
        "plt.figure(figsize=(10,4))\n",
        "plt.bar(range(len(result)), result)\n",
        "plt.show()"
      ],
      "execution_count": null,
      "outputs": [
        {
          "output_type": "display_data",
          "data": {
            "image/png": "[encoded data removed]",
            "text/plain": [
              "<Figure size 720x288 with 1 Axes>"
            ]
          },
          "metadata": {
            "tags": [],
            "needs_background": "light"
          }
        }
      ]
    },
    {
      "cell_type": "code",
      "metadata": {
        "colab": {
          "base_uri": "https://localhost:8080/"
        },
        "id": "GSjLhufKr3H8",
        "outputId": "f7711041-ca4f-4b5b-87a3-62a7822e4654"
      },
      "source": [
        "# p188, 승차 인원 최대값 찾기\n",
        "import csv\n",
        "f = open('subwaytime.csv')\n",
        "data = csv.reader(f)\n",
        "next(data)\n",
        "next(data)\n",
        "\n",
        "mx = 0\n",
        "mx_station = ''\n",
        "\n",
        "for row in data :\n",
        "  row[4:] = map(int, row[4:])\n",
        "  if sum(row[10:15:2]) > mx :\n",
        "      mx = sum(row[10:15:2])\n",
        "      mx_station = row[3] + ' ' + row[1]\n",
        "print(mx_station, mx)"
      ],
      "execution_count": null,
      "outputs": [
        {
          "output_type": "stream",
          "text": [
            "신림 2호선 642667\n"
          ],
          "name": "stdout"
        }
      ]
    },
    {
      "cell_type": "code",
      "metadata": {
        "colab": {
          "base_uri": "https://localhost:8080/"
        },
        "id": "Im76wk-LsqiR",
        "outputId": "d76d8a04-dd69-41fc-a362-f15c8ae0b036"
      },
      "source": [
        "# p188, 하차 인원 최대값 찾기 - 직장이 많음\n",
        "import csv\n",
        "f = open('subwaytime.csv')\n",
        "data = csv.reader(f)\n",
        "next(data)\n",
        "next(data)\n",
        "\n",
        "mx = 0\n",
        "mx_station = ''\n",
        "\n",
        "for row in data :\n",
        "  row[4:] = map(int, row[4:])\n",
        "  a = sum(row[11:16:2])\n",
        "  if a > mx :\n",
        "      mx = a\n",
        "      mx_station = row[3] + ' ' + row[1]\n",
        "print(mx_station, mx)"
      ],
      "execution_count": null,
      "outputs": [
        {
          "output_type": "stream",
          "text": [
            "강남 2호선 741996\n"
          ],
          "name": "stdout"
        }
      ]
    },
    {
      "cell_type": "markdown",
      "metadata": {
        "id": "-eg3WAB-tNl4"
      },
      "source": [
        "### 03. 밤 11시에 사람들이 가장 많이 타는 역은 어디일까, p190\n",
        "- 시간대를 입력받아 해당하는 시간의 승차 인원을 계산하여 출력함.\n",
        "- 색인의 패턴을 찾아서 계산해야 한다.\n",
        "- i = 4 + (t - 4) * 2"
      ]
    },
    {
      "cell_type": "code",
      "metadata": {
        "colab": {
          "base_uri": "https://localhost:8080/"
        },
        "id": "_NABQnG6tg2C",
        "outputId": "60ba3bff-24b9-4740-8431-0342f915d795"
      },
      "source": [
        "# p192, 입력 받은 시간의 승차 인원 최대값 찾기\n",
        "import csv\n",
        "f = open('subwaytime.csv')\n",
        "data = csv.reader(f)\n",
        "next(data)\n",
        "next(data)\n",
        "\n",
        "mx = 0\n",
        "mx_station = ''\n",
        "\n",
        "t = int(input('시간을 입력하세요 : '))\n",
        "\n",
        "for row in data :\n",
        "  row[4:] = map(int, row[4:])\n",
        "  a = row[4+(t-4)*2]\n",
        "  if a > mx :\n",
        "      mx = a\n",
        "      mx_station = row[3] + ' ' + row[1]\n",
        "print(mx_station, mx)"
      ],
      "execution_count": null,
      "outputs": [
        {
          "output_type": "stream",
          "text": [
            "시간을 입력하세요 : 16\n",
            "강남 2호선 143520\n"
          ],
          "name": "stdout"
        }
      ]
    },
    {
      "cell_type": "markdown",
      "metadata": {
        "id": "fsK1x56aum-w"
      },
      "source": [
        "### 04. 시간대별로 사람들이 가장 많이 타고 내리는 역은 어디일까, p193\n",
        "- 시간대별 최대 승차인원 역과 인원을 그래프로 나타낸다.\n",
        "- 색인 i = j * 2 + 4"
      ]
    },
    {
      "cell_type": "code",
      "metadata": {
        "colab": {
          "base_uri": "https://localhost:8080/"
        },
        "id": "YNUXAxWKul_u",
        "outputId": "c33cfc26-d081-43f1-e313-1eb251597aea"
      },
      "source": [
        "# p192, 입력 받은 시간의 승차 인원 최대값 찾기\n",
        "import csv\n",
        "f = open('subwaytime.csv')\n",
        "data = csv.reader(f)\n",
        "next(data)\n",
        "next(data)\n",
        "\n",
        "mx = [0] * 24\n",
        "mx_station = [''] * 24\n",
        "\n",
        "for row in data :\n",
        "  row[4:] = map(int, row[4:])\n",
        "  for j in range(24) :\n",
        "    a = row[j*2+4]\n",
        "    if a > mx[j] :\n",
        "      mx[j] = a\n",
        "      mx_station[j] = str((j+4)%24) + ' ' + row[3]\n",
        "print(mx_station)\n",
        "print(mx)"
      ],
      "execution_count": null,
      "outputs": [
        {
          "output_type": "stream",
          "text": [
            "['4 구로', '5 신림', '6 신림', '7 신림', '8 신림', '9 신림', '10 신림', '11 신림', '12 강남', '13 강남', '14 강남', '15 강남', '16 강남', '17 강남', '18 강남', '19 강남', '20 강남', '21 강남', '22 강남', '23 강남', '0 정자', '1 군자(능동)', '2 역삼', '']\n",
            "[11281, 40255, 72944, 190957, 287068, 164642, 84947, 69868, 79730, 93583, 101584, 125307, 143520, 222903, 312517, 185908, 137750, 169220, 140482, 17074, 482, 4, 1, 0]\n"
          ],
          "name": "stdout"
        }
      ]
    },
    {
      "cell_type": "code",
      "metadata": {
        "colab": {
          "base_uri": "https://localhost:8080/",
          "height": 309
        },
        "id": "gAVbL4Rqvfsv",
        "outputId": "0174ab00-02b7-49ea-e0dc-41b718465086"
      },
      "source": [
        "# p195, 그래프로 표현하기\n",
        "import matplotlib.pyplot as plt\n",
        "plt.rc('font', family='NanumGothic')\n",
        "plt.bar(range(24), mx)\n",
        "plt.xticks(range(24), mx_station, rotation=90)\n",
        "plt.show()"
      ],
      "execution_count": null,
      "outputs": [
        {
          "output_type": "display_data",
          "data": {
            "image/png": "[encoded data removed]",
            "text/plain": [
              "<Figure size 432x288 with 1 Axes>"
            ]
          },
          "metadata": {
            "tags": [],
            "needs_background": "light"
          }
        }
      ]
    },
    {
      "cell_type": "code",
      "metadata": {
        "colab": {
          "base_uri": "https://localhost:8080/",
          "height": 390
        },
        "id": "zc2jM2C8xCyD",
        "outputId": "30ee1b8b-e8cb-4784-88d4-86508d040413"
      },
      "source": [
        "# p197, 입력 받은 시간의 하차 인원 최대값 찾기\n",
        "import csv\n",
        "f = open('subwaytime.csv')\n",
        "data = csv.reader(f)\n",
        "next(data)\n",
        "next(data)\n",
        "\n",
        "mx = [0] * 24\n",
        "mx_station = [''] * 24\n",
        "\n",
        "for row in data :\n",
        "  row[4:] = map(int, row[4:])\n",
        "  for j in range(24) :\n",
        "    a = row[j*2+5]\n",
        "    if a > mx[j] :\n",
        "      mx[j] = a\n",
        "      mx_station[j] = str((j+4)%24) + ' ' + row[3]\n",
        "print(mx_station)\n",
        "print(mx)\n",
        "\n",
        "import matplotlib.pyplot as plt\n",
        "plt.rc('font', family='NanumGothic')\n",
        "plt.bar(range(24), mx)\n",
        "plt.xticks(range(24), mx_station, rotation=90)\n",
        "plt.show()"
      ],
      "execution_count": null,
      "outputs": [
        {
          "output_type": "stream",
          "text": [
            "['4 영등포', '5 강남', '6 강남', '7 강남', '8 가산디지털단지', '9 강남', '10 강남', '11 강남', '12 강남', '13 강남', '14 강남', '15 강남', '16 잠실(송파구청)', '17 신림', '18 신림', '19 신림', '20 신림', '21 신림', '22 신림', '23 신림', '0 구로', '1 구파발', '2 화계', '']\n",
            "[71, 10959, 49108, 144595, 374853, 297597, 135352, 101144, 96435, 114250, 98764, 88590, 94838, 132599, 234879, 194732, 114642, 107943, 108569, 47145, 4994, 8, 3, 0]\n"
          ],
          "name": "stdout"
        },
        {
          "output_type": "display_data",
          "data": {
            "image/png": "[encoded data removed]",
            "text/plain": [
              "<Figure size 432x288 with 1 Axes>"
            ]
          },
          "metadata": {
            "tags": [],
            "needs_background": "light"
          }
        }
      ]
    },
    {
      "cell_type": "markdown",
      "metadata": {
        "id": "-JOIzoSDxSm7"
      },
      "source": [
        "### 05. 모든 지하철역에서 시간대별 승하차 인원을 모두 더하면, p198\n",
        "- 시간대별 승하차 추이"
      ]
    },
    {
      "cell_type": "code",
      "metadata": {
        "colab": {
          "base_uri": "https://localhost:8080/",
          "height": 280
        },
        "id": "pstvLUosxobi",
        "outputId": "45d476db-126b-41d1-8d35-f3d1133b391f"
      },
      "source": [
        "# p200, 시간대별 승하차 인원 추이\n",
        "import csv\n",
        "f = open('subwaytime.csv')\n",
        "data = csv.reader(f)\n",
        "next(data)\n",
        "next(data)\n",
        "\n",
        "s_in = [0] * 24\n",
        "s_out = [0] * 24\n",
        "\n",
        "for row in data :\n",
        "  row[4:] = map(int, row[4:])\n",
        "  for i in range(24) :\n",
        "    s_in[i] += row[4+i*2]\n",
        "    s_out[i] += row[5+i*2]\n",
        "\n",
        "import matplotlib.pyplot as plt\n",
        "plt.rc('font', family='NanumGothic')\n",
        "plt.style.use('ggplot')\n",
        "plt.title('시간대별 승하차 인원 추이')\n",
        "plt.plot(s_in, label='승차')\n",
        "plt.plot(s_out, 'b--', label='하차')\n",
        "plt.legend()\n",
        "plt.xticks(range(24), range(4,28))\n",
        "plt.show()"
      ],
      "execution_count": null,
      "outputs": [
        {
          "output_type": "display_data",
          "data": {
            "image/png": "[encoded data removed]",
            "text/plain": [
              "<Figure size 432x288 with 1 Axes>"
            ]
          },
          "metadata": {
            "tags": []
          }
        }
      ]
    }
  ]
}