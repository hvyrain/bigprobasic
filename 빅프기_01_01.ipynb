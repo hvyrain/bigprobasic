{
  "nbformat": 4,
  "nbformat_minor": 0,
  "metadata": {
    "colab": {
      "name": "빅프기-01-01.ipynb",
      "provenance": [],
      "collapsed_sections": [],
      "toc_visible": true,
      "authorship_tag": "ABX9TyO6F49PDFT+5ItQFd7ggTjm",
      "include_colab_link": true
    },
    "kernelspec": {
      "name": "python3",
      "display_name": "Python 3"
    },
    "language_info": {
      "name": "python"
    }
  },
  "cells": [
    {
      "cell_type": "markdown",
      "metadata": {
        "id": "view-in-github",
        "colab_type": "text"
      },
      "source": [
        "<a href=\"https://colab.research.google.com/github/hvyrain/bigprobasic/blob/main/%EB%B9%85%ED%94%84%EA%B8%B0_01_01.ipynb\" target=\"_parent\"><img src=\"https://colab.research.google.com/assets/colab-badge.svg\" alt=\"Open In Colab\"/></a>"
      ]
    },
    {
      "cell_type": "markdown",
      "metadata": {
        "id": "4N31RG4ZlS9z"
      },
      "source": [
        "# 빅프기 1주차"
      ]
    },
    {
      "cell_type": "code",
      "metadata": {
        "colab": {
          "base_uri": "https://localhost:8080/"
        },
        "id": "S_wvSM4dlSLQ",
        "outputId": "b8a4a41e-88f9-4c5e-ac22-36a43b874b40"
      },
      "source": [
        "name = '이몽룡'\n",
        "print('안녕하세요, 제 이름은 ', name, '입니다.\\n만나서 반갑습니다.', sep='')"
      ],
      "execution_count": 2,
      "outputs": [
        {
          "output_type": "stream",
          "text": [
            "안녕하세요, 제 이름은 이몽룡입니다.\n",
            "만나서 반갑습니다.\n"
          ],
          "name": "stdout"
        }
      ]
    },
    {
      "cell_type": "markdown",
      "metadata": {
        "id": "rnaZLK6er8PP"
      },
      "source": [
        "## CSV 파일 처리"
      ]
    },
    {
      "cell_type": "markdown",
      "metadata": {
        "id": "43FrtiJfs1oG"
      },
      "source": [
        "### CSV 파일 저장하기"
      ]
    },
    {
      "cell_type": "code",
      "metadata": {
        "colab": {
          "base_uri": "https://localhost:8080/"
        },
        "id": "irE73r5er6OY",
        "outputId": "9793649e-5893-4ff0-891b-9550af6b52d2"
      },
      "source": [
        "%%writefile bmi.csv\n",
        "name,height,weight\n",
        "'길동',190,100\n",
        "'몽룡',170,65\n",
        "'춘향',155,45\n",
        "'방자',165,70"
      ],
      "execution_count": 4,
      "outputs": [
        {
          "output_type": "stream",
          "text": [
            "Overwriting bmi.csv\n"
          ],
          "name": "stdout"
        }
      ]
    },
    {
      "cell_type": "markdown",
      "metadata": {
        "id": "90XaxOI8s4v-"
      },
      "source": [
        "### CSV 파일 읽어오기"
      ]
    },
    {
      "cell_type": "code",
      "metadata": {
        "id": "vRcBkYW5sWEn"
      },
      "source": [
        "import csv\n",
        "f = open('bmi.csv', encoding='utf-8')\n",
        "data = csv.reader(f)"
      ],
      "execution_count": 7,
      "outputs": []
    },
    {
      "cell_type": "markdown",
      "metadata": {
        "id": "TXV4k4kSs622"
      },
      "source": [
        "### 내용 출력하기"
      ]
    },
    {
      "cell_type": "code",
      "metadata": {
        "colab": {
          "base_uri": "https://localhost:8080/"
        },
        "id": "32X3sy0-st5O",
        "outputId": "44c57a3f-0f81-4a35-d0f8-d2c25bcc3253"
      },
      "source": [
        "for i in data :\n",
        "  print(i)"
      ],
      "execution_count": 8,
      "outputs": [
        {
          "output_type": "stream",
          "text": [
            "['name', 'height', 'weight']\n",
            "[\"'길동'\", '190', '100']\n",
            "[\"'몽룡'\", '170', '65']\n",
            "[\"'춘향'\", '155', '45']\n",
            "[\"'방자'\", '165', '70']\n"
          ],
          "name": "stdout"
        }
      ]
    }
  ]
}