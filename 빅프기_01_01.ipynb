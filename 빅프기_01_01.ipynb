{
  "nbformat": 4,
  "nbformat_minor": 0,
  "metadata": {
    "colab": {
      "name": "빅프기-01-01.ipynb",
      "provenance": [],
      "collapsed_sections": [],
      "toc_visible": true,
      "authorship_tag": "ABX9TyPoTZgO5+5zUbB1xNolMARj",
      "include_colab_link": true
    },
    "kernelspec": {
      "name": "python3",
      "display_name": "Python 3"
    },
    "language_info": {
      "name": "python"
    }
  },
  "cells": [
    {
      "cell_type": "markdown",
      "metadata": {
        "id": "view-in-github",
        "colab_type": "text"
      },
      "source": [
        "<a href=\"https://colab.research.google.com/github/hvyrain/bigprobasic/blob/main/%EB%B9%85%ED%94%84%EA%B8%B0_01_01.ipynb\" target=\"_parent\"><img src=\"https://colab.research.google.com/assets/colab-badge.svg\" alt=\"Open In Colab\"/></a>"
      ]
    },
    {
      "cell_type": "markdown",
      "metadata": {
        "id": "4N31RG4ZlS9z"
      },
      "source": [
        "# 빅프기 1주차"
      ]
    },
    {
      "cell_type": "code",
      "metadata": {
        "colab": {
          "base_uri": "https://localhost:8080/"
        },
        "id": "S_wvSM4dlSLQ",
        "outputId": "b8a4a41e-88f9-4c5e-ac22-36a43b874b40"
      },
      "source": [
        "name = '이몽룡'\n",
        "print('안녕하세요, 제 이름은 ', name, '입니다.\\n만나서 반갑습니다.', sep='')"
      ],
      "execution_count": null,
      "outputs": [
        {
          "output_type": "stream",
          "text": [
            "안녕하세요, 제 이름은 이몽룡입니다.\n",
            "만나서 반갑습니다.\n"
          ],
          "name": "stdout"
        }
      ]
    },
    {
      "cell_type": "markdown",
      "metadata": {
        "id": "rnaZLK6er8PP"
      },
      "source": [
        "## CSV 파일 처리"
      ]
    },
    {
      "cell_type": "markdown",
      "metadata": {
        "id": "43FrtiJfs1oG"
      },
      "source": [
        "### CSV 파일 저장하기"
      ]
    },
    {
      "cell_type": "code",
      "metadata": {
        "colab": {
          "base_uri": "https://localhost:8080/"
        },
        "id": "irE73r5er6OY",
        "outputId": "8a61674e-336e-4325-c95a-cfb6f4b8e285"
      },
      "source": [
        "%%writefile bmi.csv\n",
        "name,height,weight\n",
        "'gildong',190,110\n",
        "'mongryong',170,65\n",
        "'chunhyang',155,45\n",
        "'bangja',165,80"
      ],
      "execution_count": 37,
      "outputs": [
        {
          "output_type": "stream",
          "text": [
            "Overwriting bmi.csv\n"
          ],
          "name": "stdout"
        }
      ]
    },
    {
      "cell_type": "markdown",
      "metadata": {
        "id": "90XaxOI8s4v-"
      },
      "source": [
        "### CSV 파일 읽어오기"
      ]
    },
    {
      "cell_type": "code",
      "metadata": {
        "id": "vRcBkYW5sWEn"
      },
      "source": [
        "import csv\n",
        "f = open('bmi.csv', encoding='utf-8')\n",
        "data = csv.reader(f)"
      ],
      "execution_count": 38,
      "outputs": []
    },
    {
      "cell_type": "markdown",
      "metadata": {
        "id": "TXV4k4kSs622"
      },
      "source": [
        "### 내용 출력하기"
      ]
    },
    {
      "cell_type": "code",
      "metadata": {
        "colab": {
          "base_uri": "https://localhost:8080/"
        },
        "id": "32X3sy0-st5O",
        "outputId": "73c683ae-e0ca-4adf-f18d-bff60938a6d5"
      },
      "source": [
        "for i in data :\n",
        "  print(i)"
      ],
      "execution_count": 39,
      "outputs": [
        {
          "output_type": "stream",
          "text": [
            "['name', 'height', 'weight']\n",
            "[\"'gildong'\", '190', '110']\n",
            "[\"'mongryong'\", '170', '65']\n",
            "[\"'chunhyang'\", '155', '45']\n",
            "[\"'bangja'\", '165', '80']\n"
          ],
          "name": "stdout"
        }
      ]
    },
    {
      "cell_type": "markdown",
      "metadata": {
        "id": "k7LK7a2Pvkoa"
      },
      "source": [
        "### BMI 계산해 보기"
      ]
    },
    {
      "cell_type": "code",
      "metadata": {
        "colab": {
          "base_uri": "https://localhost:8080/"
        },
        "id": "W8XBEyvutQle",
        "outputId": "00204fc4-400a-48bc-e3d4-d59f8559fd26"
      },
      "source": [
        "import csv\n",
        "f = open('bmi.csv', encoding='utf-8')\n",
        "data = csv.reader(f)\n",
        "\n",
        "bmi = []\n",
        "name = []\n",
        "next(data)\n",
        "for i in data :\n",
        "  weight = float(i[2])\n",
        "  height = float(i[1]) / 100 # meter로 변환\n",
        "  b = weight / height ** 2\n",
        "  i.append(b)\n",
        "  name.append(i[0])\n",
        "  bmi.append(b)\n",
        "  print(i)"
      ],
      "execution_count": 40,
      "outputs": [
        {
          "output_type": "stream",
          "text": [
            "[\"'gildong'\", '190', '110', 30.470914127423825]\n",
            "[\"'mongryong'\", '170', '65', 22.49134948096886]\n",
            "[\"'chunhyang'\", '155', '45', 18.730489073881373]\n",
            "[\"'bangja'\", '165', '80', 29.384756657483933]\n"
          ],
          "name": "stdout"
        }
      ]
    },
    {
      "cell_type": "markdown",
      "metadata": {
        "id": "nk_ZqN7kvmSB"
      },
      "source": [
        "### 바그래프로 출력해 보기"
      ]
    },
    {
      "cell_type": "code",
      "metadata": {
        "colab": {
          "base_uri": "https://localhost:8080/",
          "height": 265
        },
        "id": "PXvSZ3MauD7U",
        "outputId": "3365b919-fefe-4cf3-8183-5f1127bf03ff"
      },
      "source": [
        "import matplotlib.pyplot as plt\n",
        "plt.bar(name, bmi)\n",
        "plt.grid(True)\n",
        "plt.show()"
      ],
      "execution_count": 41,
      "outputs": [
        {
          "output_type": "display_data",
          "data": {
            "image/png": "[encoded data removed]",
            "text/plain": [
              "<Figure size 432x288 with 1 Axes>"
            ]
          },
          "metadata": {
            "needs_background": "light"
          }
        }
      ]
    }
  ]
}