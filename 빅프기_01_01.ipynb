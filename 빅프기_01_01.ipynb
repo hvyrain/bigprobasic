{
  "nbformat": 4,
  "nbformat_minor": 0,
  "metadata": {
    "colab": {
      "name": "빅프기-01-01.ipynb",
      "provenance": [],
      "authorship_tag": "ABX9TyNpRBowkvQ2d59gJuNKH3OU",
      "include_colab_link": true
    },
    "kernelspec": {
      "name": "python3",
      "display_name": "Python 3"
    },
    "language_info": {
      "name": "python"
    }
  },
  "cells": [
    {
      "cell_type": "markdown",
      "metadata": {
        "id": "view-in-github",
        "colab_type": "text"
      },
      "source": [
        "<a href=\"https://colab.research.google.com/github/hvyrain/bigprobasic/blob/main/%EB%B9%85%ED%94%84%EA%B8%B0_01_01.ipynb\" target=\"_parent\"><img src=\"https://colab.research.google.com/assets/colab-badge.svg\" alt=\"Open In Colab\"/></a>"
      ]
    },
    {
      "cell_type": "markdown",
      "metadata": {
        "id": "4N31RG4ZlS9z"
      },
      "source": [
        "# 빅프기 1주차"
      ]
    },
    {
      "cell_type": "code",
      "metadata": {
        "colab": {
          "base_uri": "https://localhost:8080/"
        },
        "id": "S_wvSM4dlSLQ",
        "outputId": "b8a4a41e-88f9-4c5e-ac22-36a43b874b40"
      },
      "source": [
        "name = '이몽룡'\n",
        "print('안녕하세요, 제 이름은 ', name, '입니다.\\n만나서 반갑습니다.', sep='')"
      ],
      "execution_count": 2,
      "outputs": [
        {
          "output_type": "stream",
          "text": [
            "안녕하세요, 제 이름은 이몽룡입니다.\n",
            "만나서 반갑습니다.\n"
          ],
          "name": "stdout"
        }
      ]
    }
  ]
}