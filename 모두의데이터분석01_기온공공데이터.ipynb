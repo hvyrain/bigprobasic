{
  "nbformat": 4,
  "nbformat_minor": 0,
  "metadata": {
    "colab": {
      "name": "모두의데이터분석01-기온공공데이터.ipynb",
      "provenance": [],
      "collapsed_sections": [],
      "authorship_tag": "ABX9TyNzbXYHHP6g89aYV8dSsyCo",
      "include_colab_link": true
    },
    "kernelspec": {
      "name": "python3",
      "display_name": "Python 3"
    },
    "language_info": {
      "name": "python"
    }
  },
  "cells": [
    {
      "cell_type": "markdown",
      "metadata": {
        "id": "view-in-github",
        "colab_type": "text"
      },
      "source": [
        "<a href=\"https://colab.research.google.com/github/hvyrain/bigprobasic/blob/main/%EB%AA%A8%EB%91%90%EC%9D%98%EB%8D%B0%EC%9D%B4%ED%84%B0%EB%B6%84%EC%84%9D01_%EA%B8%B0%EC%98%A8%EA%B3%B5%EA%B3%B5%EB%8D%B0%EC%9D%B4%ED%84%B0.ipynb\" target=\"_parent\"><img src=\"https://colab.research.google.com/assets/colab-badge.svg\" alt=\"Open In Colab\"/></a>"
      ]
    },
    {
      "cell_type": "markdown",
      "metadata": {
        "id": "WSThMryHMPDv"
      },
      "source": [
        "## 01. 기온 데이터 분석 시작하기\n"
      ]
    },
    {
      "cell_type": "markdown",
      "metadata": {
        "id": "CRK9jT_mMWT5"
      },
      "source": [
        "### 01. 기온 공공데이터 살펴보기, p14\n",
        "https://data.kma.go.kr - 기후통계분석 - 기후분석\n",
        "- 분류 : 지상\n",
        "- 지역/지점 : 서울\n",
        "- 요소 : ㅣ온\n",
        "- 기간 : 일, 일자 선택\n",
        "- csv 다운로드 버튼 클릭"
      ]
    },
    {
      "cell_type": "markdown",
      "metadata": {
        "id": "eSi36a3BM0sb"
      },
      "source": [
        "### 02. CSV 파일이란, p18\n",
        "csv : Comma-Separated Values"
      ]
    },
    {
      "cell_type": "markdown",
      "metadata": {
        "id": "6x9JGmgoM-f7"
      },
      "source": [
        "### 03. 데이터 분석에 필요한 환경 만들기, p21\n",
        "- 구글 코랩 : https://colab.research.google.com\n",
        "- 캐글 : https://www.kaggle.com\n",
        "- 주피터 노트북 : 아나콘다(https://www.anaconda.com) 설치 후 주피터 노트북 설치"
      ]
    },
    {
      "cell_type": "markdown",
      "metadata": {
        "id": "iSlcYqLtOFi2"
      },
      "source": [
        "## 02. 서울의 기온 데이터 분석하기"
      ]
    },
    {
      "cell_type": "markdown",
      "metadata": {
        "id": "d908Rly6OJz0"
      },
      "source": [
        "### 01. CSV 파일에서 데이터 읽어오기, p28\n",
        "- 함수 : csv.reader() , csv.writer()\n",
        "- 다운로드 : https://data.kma.go.kr - 기후통계분석 - 기후분석 - 기온분석, 1904.1.1 ~ 2019.1.17, 서울 선택 - 검색 - CSV 다운로드"
      ]
    },
    {
      "cell_type": "code",
      "metadata": {
        "colab": {
          "base_uri": "https://localhost:8080/"
        },
        "id": "eRLBqjf52j6R",
        "outputId": "7ff25749-6b7f-43f5-eb07-a7ac259d3d74"
      },
      "source": [
        "# CSV 파일을 코랩으로 업로드해 둔다., p33\n",
        "import csv\n",
        "f = open('seoul.csv', encoding='cp949')\n",
        "data = csv.reader(f, delimiter=',')\n",
        "print(data)\n",
        "f.close()"
      ],
      "execution_count": null,
      "outputs": [
        {
          "output_type": "stream",
          "text": [
            "<_csv.reader object at 0x7f2f20d91dd0>\n"
          ],
          "name": "stdout"
        }
      ]
    },
    {
      "cell_type": "code",
      "metadata": {
        "colab": {
          "base_uri": "https://localhost:8080/"
        },
        "id": "nX2eI2MGPtBf",
        "outputId": "1d37fd78-6ce6-4b4c-99ce-ebdb5d7897dc"
      },
      "source": [
        "# ※ pandas read_csv의 활용\n",
        "import pandas as pd\n",
        "data = pd.read_csv('seoul.csv', encoding='cp949')\n",
        "data.head()\n",
        "data.max()"
      ],
      "execution_count": null,
      "outputs": [
        {
          "output_type": "execute_result",
          "data": {
            "text/plain": [
              "날짜         2018-03-28\n",
              "지점                108\n",
              "평균기온(℃)          33.1\n",
              "최저기온(℃)          28.8\n",
              "최고기온(℃)          38.4\n",
              "dtype: object"
            ]
          },
          "metadata": {
            "tags": []
          },
          "execution_count": 39
        }
      ]
    },
    {
      "cell_type": "markdown",
      "metadata": {
        "id": "6MhFXkC4Uq6p"
      },
      "source": [
        "### 02. 데이터 출력하기, p36"
      ]
    },
    {
      "cell_type": "code",
      "metadata": {
        "id": "I9NwYnJX32C6",
        "colab": {
          "base_uri": "https://localhost:8080/"
        },
        "outputId": "2170c388-3352-4561-cbf1-abc7116011e3"
      },
      "source": [
        "# p37\n",
        "import csv\n",
        "f = open('seoul.csv', encoding='cp949')\n",
        "data = csv.reader(f, delimiter=',')\n",
        "counter = 0\n",
        "for row in data :\n",
        "  counter += 1\n",
        "  if counter < 10 : \n",
        "    print(row) \n",
        "  else : \n",
        "    break\n",
        "f.close()"
      ],
      "execution_count": null,
      "outputs": [
        {
          "output_type": "stream",
          "text": [
            "['날짜', '지점', '평균기온(℃)', '최저기온(℃)', '최고기온(℃)']\n",
            "['1907-10-01', '108', '13.5', '7.9', '20.7']\n",
            "['1907-10-02', '108', '16.2', '7.9', '22']\n",
            "['1907-10-03', '108', '16.2', '13.1', '21.3']\n",
            "['1907-10-04', '108', '16.5', '11.2', '22']\n",
            "['1907-10-05', '108', '17.6', '10.9', '25.4']\n",
            "['1907-10-06', '108', '13', '11.2', '21.3']\n",
            "['1907-10-07', '108', '11.3', '6.3', '16.1']\n",
            "['1907-10-08', '108', '8.9', '3.9', '14.9']\n"
          ],
          "name": "stdout"
        }
      ]
    },
    {
      "cell_type": "markdown",
      "metadata": {
        "id": "BkIZVYxPV-Ux"
      },
      "source": [
        "### 03. 헤더 저장하기, p39\n",
        "- next() 함수를 이용하여 한 줄을 버린다."
      ]
    },
    {
      "cell_type": "code",
      "metadata": {
        "colab": {
          "base_uri": "https://localhost:8080/"
        },
        "id": "_PUD25985SYn",
        "outputId": "4716bd05-57a9-41ab-d0c3-b22f79b036be"
      },
      "source": [
        "# p40\n",
        "import csv\n",
        "f = open('seoul.csv', encoding='cp949')\n",
        "data = csv.reader(f, delimiter=',')\n",
        "header = next(data) # 헤더 한 줄 건너띄기\n",
        "counter = 0\n",
        "for row in data :\n",
        "  counter += 1\n",
        "  if counter < 10 : \n",
        "    print(row) \n",
        "  else : \n",
        "    break\n",
        "f.close()"
      ],
      "execution_count": null,
      "outputs": [
        {
          "output_type": "stream",
          "text": [
            "['1907-10-01', '108', '13.5', '7.9', '20.7']\n",
            "['1907-10-02', '108', '16.2', '7.9', '22']\n",
            "['1907-10-03', '108', '16.2', '13.1', '21.3']\n",
            "['1907-10-04', '108', '16.5', '11.2', '22']\n",
            "['1907-10-05', '108', '17.6', '10.9', '25.4']\n",
            "['1907-10-06', '108', '13', '11.2', '21.3']\n",
            "['1907-10-07', '108', '11.3', '6.3', '16.1']\n",
            "['1907-10-08', '108', '8.9', '3.9', '14.9']\n",
            "['1907-10-09', '108', '11.6', '3.8', '21.1']\n"
          ],
          "name": "stdout"
        }
      ]
    },
    {
      "cell_type": "markdown",
      "metadata": {
        "id": "4Y_nKNT9aWUq"
      },
      "source": [
        "## 03. 서울이 가장 더웠던 날은 언제였을까"
      ]
    },
    {
      "cell_type": "markdown",
      "metadata": {
        "id": "JbULttn9WkaR"
      },
      "source": [
        "### 01. 질문 다듬기, p43\n",
        "- 서울이 가장 더웠던 날은 언제였을까? 얼마나 더웠을까?\n",
        "- 기상 관측 이래, 서울의 최고 기온이 가장 높았던 날은 언제였고, 몇 도였을까?"
      ]
    },
    {
      "cell_type": "markdown",
      "metadata": {
        "id": "DcWD1u7EW_9o"
      },
      "source": [
        "### 02. 문제 해결 방법 구상하기, p44\n",
        "- 날짜, 최고기온 열(필드)\n",
        "1. 데이터를 읽어 온다.\n",
        "1. 순차적으로 최고 기온을 확인한다.\n",
        "1. 최고 기온이 가장 높았던 날짜의 데이터를 저장한다.\n",
        "1. 최종 저장된 데이터를 출력한다.\n"
      ]
    },
    {
      "cell_type": "markdown",
      "metadata": {
        "id": "wXhIQEQhXVbf"
      },
      "source": [
        "### 03. 파이썬 코드로 구현하기, p45\n",
        "- float() 함수는 빈 값은 변환할 수 없으므로 다른 작은 값(-999)로 대체한다."
      ]
    },
    {
      "cell_type": "code",
      "metadata": {
        "id": "G8yyc1cQX5Eo"
      },
      "source": [
        "# p47\n",
        "import csv\n",
        "f = open('seoul.csv', encoding='cp949')\n",
        "data = csv.reader(f)\n",
        "header = next(data)\n",
        "for row in data :\n",
        "  if row[4] == '' :\n",
        "    row[4] = -999\n",
        "  row[4] = float(row[4])\n",
        "  print(row)\n",
        "  if row[4] > 30 :\n",
        "    break\n",
        "f.close()"
      ],
      "execution_count": null,
      "outputs": []
    },
    {
      "cell_type": "code",
      "metadata": {
        "colab": {
          "base_uri": "https://localhost:8080/"
        },
        "id": "-fuUYS-_ZUJr",
        "outputId": "16c50a30-61d1-4e74-ca2f-8f4ed56ca1ec"
      },
      "source": [
        "# p51\n",
        "import csv\n",
        "f = open('seoul.csv', encoding='cp949')\n",
        "data = csv.reader(f)\n",
        "header = next(data)\n",
        "max_temp = -999\n",
        "max_date = ''\n",
        "for row in data :\n",
        "  if row[4] == '' :\n",
        "    row[4] = -999\n",
        "  row[4] = float(row[4])\n",
        "  if max_temp < row[4] : \n",
        "    max_temp = row[4]\n",
        "    max_date = row[0]\n",
        "f.close()\n",
        "print(f'기상 관측 이래 서울의 최고 기온이 가장 높았던 날은 {max_date}이고, 기온은 {max_temp}도입니다.')"
      ],
      "execution_count": null,
      "outputs": [
        {
          "output_type": "stream",
          "text": [
            "기상 관측 이래 서울의 최고 기온이 가장 높았던 날은 1994-07-24이고, 기온은 38.4도입니다.\n"
          ],
          "name": "stdout"
        }
      ]
    },
    {
      "cell_type": "markdown",
      "metadata": {
        "id": "evI_8JS2yDwY"
      },
      "source": [
        "### 년간 평균기온 추이"
      ]
    },
    {
      "cell_type": "code",
      "metadata": {
        "id": "qpFGyVU1yDBM",
        "outputId": "537ac11e-c4ec-41e4-a62d-202eec794e66",
        "colab": {
          "base_uri": "https://localhost:8080/"
        }
      },
      "source": [
        "import csv\n",
        "f = open('seoul-utf8.csv')\n",
        "data = list(csv.reader(f))\n",
        "data[0]"
      ],
      "execution_count": 2,
      "outputs": [
        {
          "output_type": "execute_result",
          "data": {
            "text/plain": [
              "['날짜', '지점', '평균기온(℃)', '최저기온(℃)', '최고기온(℃)']"
            ]
          },
          "metadata": {},
          "execution_count": 2
        }
      ]
    },
    {
      "cell_type": "code",
      "metadata": {
        "id": "LFFsSpEnycSn",
        "outputId": "71520c6f-dec8-4e2e-a96d-09829442a2bf",
        "colab": {
          "base_uri": "https://localhost:8080/",
          "height": 301
        }
      },
      "source": [
        "year_mean = []\n",
        "year_temp = []\n",
        "year = int(data[1][0].split('-')[0])\n",
        "for i in range(1,len(data)) :\n",
        "  year_last = int(data[i][0].split('-')[0])\n",
        "  if year == year_last :\n",
        "    if data[i][2] != '' :\n",
        "      year_temp.append(float(data[i][2]))\n",
        "  else :\n",
        "    if len(year_temp) > 0 :\n",
        "      avg = sum(year_temp) / len(year_temp)\n",
        "      year_mean.append(avg)\n",
        "      year_temp.clear()\n",
        "      year = int(data[i][0].split('-')[0])\n",
        "    if data[i][2] != '' :\n",
        "      year_temp.append(float(data[i][2]))\n",
        "\n",
        "print(len(year_mean), '년')\n",
        "print('기온차 : ', year_mean[-1] - year_mean[1])\n",
        "import matplotlib.pyplot as plt\n",
        "plt.plot(year_mean)\n",
        "plt.show()\n",
        "\n",
        "# 1907년은 10월 부터 기록되어 낮음.\n",
        "# 1950년대 전쟁 중에는 데이터 기록이 제대로 이루어지지 않음."
      ],
      "execution_count": 15,
      "outputs": [
        {
          "output_type": "stream",
          "name": "stdout",
          "text": [
            "113 년\n",
            "기온차 :  2.8445355191256905\n"
          ]
        },
        {
          "output_type": "display_data",
          "data": {
            "image/png": "[encoded data removed]",
            "text/plain": [
              "<Figure size 432x288 with 1 Axes>"
            ]
          },
          "metadata": {
            "needs_background": "light"
          }
        }
      ]
    },
    {
      "cell_type": "markdown",
      "metadata": {
        "id": "kQkIM0Z6PfiK"
      },
      "source": [
        "## Pandas로 조작하기\n",
        "- 내 생일의 기온 그래프 그리기\n",
        "- 참조 : https://datascienceschool.net/01%20python/04.00%204%EC%9E%A5%20%ED%8C%90%EB%8B%A4%EC%8A%A4%20%EB%8D%B0%EC%9D%B4%ED%84%B0%20%EB%B6%84%EC%84%9D.html\n",
        "- 참조 : https://blog.naver.com/wideeyed/221603778414"
      ]
    },
    {
      "cell_type": "markdown",
      "metadata": {
        "id": "TnWIYLTpUYq5"
      },
      "source": [
        "#### 한글 깨짐 방지\n",
        "- https://teddylee777.github.io/colab/colab-korean\n",
        "- https://blog.naver.com/seodaewoo/222466735915 "
      ]
    },
    {
      "cell_type": "code",
      "metadata": {
        "id": "LHvfBAymUcIX"
      },
      "source": [
        "!sudo apt-get install -y fonts-nanum\n",
        "!sudo fc-cache -fv\n",
        "!rm ~/.cache/matplotlib -rf\n",
        "# 실행 후 런타임 - 런타임 재시작 메뉴 선택 필수"
      ],
      "execution_count": null,
      "outputs": []
    },
    {
      "cell_type": "code",
      "metadata": {
        "colab": {
          "base_uri": "https://localhost:8080/",
          "height": 35
        },
        "id": "FxjTPLOPUvxi",
        "outputId": "96d56718-bc3d-416d-9282-7ea5caeefb81"
      },
      "source": [
        "# 한글 글꼴을 사용하기 위함.\n",
        "import matplotlib.pyplot as plt\n",
        "plt.rc('font', family='NanumGothic') \n",
        "plt.figure(figsize=(10,4))\n",
        "plt.rcParams['axes.unicode_minus'] = False"
      ],
      "execution_count": null,
      "outputs": [
        {
          "output_type": "display_data",
          "data": {
            "text/plain": [
              "<Figure size 720x288 with 0 Axes>"
            ]
          },
          "metadata": {}
        }
      ]
    },
    {
      "cell_type": "markdown",
      "metadata": {
        "id": "THOnBh5d09iM"
      },
      "source": [
        "### 기온데이터 가져오기"
      ]
    },
    {
      "cell_type": "code",
      "metadata": {
        "colab": {
          "base_uri": "https://localhost:8080/"
        },
        "id": "YFTHrFADkk2R",
        "outputId": "c6ff5f25-e878-4799-c270-45e275938ee5"
      },
      "source": [
        "!wget https://raw.githubusercontent.com/hvyrain/pythonall/main/seoul-utf8.csv"
      ],
      "execution_count": 1,
      "outputs": [
        {
          "output_type": "stream",
          "name": "stdout",
          "text": [
            "--2021-09-02 13:46:46--  https://raw.githubusercontent.com/hvyrain/pythonall/main/seoul-utf8.csv\n",
            "Resolving raw.githubusercontent.com (raw.githubusercontent.com)... 185.199.108.133, 185.199.109.133, 185.199.110.133, ...\n",
            "Connecting to raw.githubusercontent.com (raw.githubusercontent.com)|185.199.108.133|:443... connected.\n",
            "HTTP request sent, awaiting response... 200 OK\n",
            "Length: 1212955 (1.2M) [text/plain]\n",
            "Saving to: ‘seoul-utf8.csv’\n",
            "\n",
            "\rseoul-utf8.csv        0%[                    ]       0  --.-KB/s               \rseoul-utf8.csv      100%[===================>]   1.16M  --.-KB/s    in 0.05s   \n",
            "\n",
            "2021-09-02 13:46:46 (21.9 MB/s) - ‘seoul-utf8.csv’ saved [1212955/1212955]\n",
            "\n"
          ]
        }
      ]
    },
    {
      "cell_type": "code",
      "metadata": {
        "colab": {
          "base_uri": "https://localhost:8080/",
          "height": 204
        },
        "id": "Ykc0NqT5PeSy",
        "outputId": "36dab6f5-63c8-488e-a22b-c6a16b384b20"
      },
      "source": [
        "# 데이터 가져오기\n",
        "import pandas as pd\n",
        "df = pd.read_csv('seoul-utf8.csv')\n",
        "df.head()"
      ],
      "execution_count": null,
      "outputs": [
        {
          "output_type": "execute_result",
          "data": {
            "text/html": [
              "<div>\n",
              "<style scoped>\n",
              "    .dataframe tbody tr th:only-of-type {\n",
              "        vertical-align: middle;\n",
              "    }\n",
              "\n",
              "    .dataframe tbody tr th {\n",
              "        vertical-align: top;\n",
              "    }\n",
              "\n",
              "    .dataframe thead th {\n",
              "        text-align: right;\n",
              "    }\n",
              "</style>\n",
              "<table border=\"1\" class=\"dataframe\">\n",
              "  <thead>\n",
              "    <tr style=\"text-align: right;\">\n",
              "      <th></th>\n",
              "      <th>날짜</th>\n",
              "      <th>지점</th>\n",
              "      <th>평균기온(℃)</th>\n",
              "      <th>최저기온(℃)</th>\n",
              "      <th>최고기온(℃)</th>\n",
              "    </tr>\n",
              "  </thead>\n",
              "  <tbody>\n",
              "    <tr>\n",
              "      <th>0</th>\n",
              "      <td>1907-10-01</td>\n",
              "      <td>108</td>\n",
              "      <td>13.5</td>\n",
              "      <td>7.9</td>\n",
              "      <td>20.7</td>\n",
              "    </tr>\n",
              "    <tr>\n",
              "      <th>1</th>\n",
              "      <td>1907-10-02</td>\n",
              "      <td>108</td>\n",
              "      <td>16.2</td>\n",
              "      <td>7.9</td>\n",
              "      <td>22.0</td>\n",
              "    </tr>\n",
              "    <tr>\n",
              "      <th>2</th>\n",
              "      <td>1907-10-03</td>\n",
              "      <td>108</td>\n",
              "      <td>16.2</td>\n",
              "      <td>13.1</td>\n",
              "      <td>21.3</td>\n",
              "    </tr>\n",
              "    <tr>\n",
              "      <th>3</th>\n",
              "      <td>1907-10-04</td>\n",
              "      <td>108</td>\n",
              "      <td>16.5</td>\n",
              "      <td>11.2</td>\n",
              "      <td>22.0</td>\n",
              "    </tr>\n",
              "    <tr>\n",
              "      <th>4</th>\n",
              "      <td>1907-10-05</td>\n",
              "      <td>108</td>\n",
              "      <td>17.6</td>\n",
              "      <td>10.9</td>\n",
              "      <td>25.4</td>\n",
              "    </tr>\n",
              "  </tbody>\n",
              "</table>\n",
              "</div>"
            ],
            "text/plain": [
              "           날짜   지점  평균기온(℃)  최저기온(℃)  최고기온(℃)\n",
              "0  1907-10-01  108     13.5      7.9     20.7\n",
              "1  1907-10-02  108     16.2      7.9     22.0\n",
              "2  1907-10-03  108     16.2     13.1     21.3\n",
              "3  1907-10-04  108     16.5     11.2     22.0\n",
              "4  1907-10-05  108     17.6     10.9     25.4"
            ]
          },
          "metadata": {},
          "execution_count": 2
        }
      ]
    },
    {
      "cell_type": "markdown",
      "metadata": {
        "id": "6izJdyqdkK9I"
      },
      "source": [
        "### 서울의 최고, 최저기온 가져오기\n"
      ]
    },
    {
      "cell_type": "code",
      "metadata": {
        "colab": {
          "base_uri": "https://localhost:8080/",
          "height": 297
        },
        "id": "oHsbd27rmqNk",
        "outputId": "ef057e48-0fd9-4b04-a70b-5270a3c5d76d"
      },
      "source": [
        "df.describe()"
      ],
      "execution_count": null,
      "outputs": [
        {
          "output_type": "execute_result",
          "data": {
            "text/html": [
              "<div>\n",
              "<style scoped>\n",
              "    .dataframe tbody tr th:only-of-type {\n",
              "        vertical-align: middle;\n",
              "    }\n",
              "\n",
              "    .dataframe tbody tr th {\n",
              "        vertical-align: top;\n",
              "    }\n",
              "\n",
              "    .dataframe thead th {\n",
              "        text-align: right;\n",
              "    }\n",
              "</style>\n",
              "<table border=\"1\" class=\"dataframe\">\n",
              "  <thead>\n",
              "    <tr style=\"text-align: right;\">\n",
              "      <th></th>\n",
              "      <th>지점</th>\n",
              "      <th>평균기온(℃)</th>\n",
              "      <th>최저기온(℃)</th>\n",
              "      <th>최고기온(℃)</th>\n",
              "    </tr>\n",
              "  </thead>\n",
              "  <tbody>\n",
              "    <tr>\n",
              "      <th>count</th>\n",
              "      <td>41159.0</td>\n",
              "      <td>40403.000000</td>\n",
              "      <td>40402.000000</td>\n",
              "      <td>40401.000000</td>\n",
              "    </tr>\n",
              "    <tr>\n",
              "      <th>mean</th>\n",
              "      <td>108.0</td>\n",
              "      <td>11.753511</td>\n",
              "      <td>7.459730</td>\n",
              "      <td>16.760996</td>\n",
              "    </tr>\n",
              "    <tr>\n",
              "      <th>std</th>\n",
              "      <td>0.0</td>\n",
              "      <td>10.658904</td>\n",
              "      <td>10.884408</td>\n",
              "      <td>10.982077</td>\n",
              "    </tr>\n",
              "    <tr>\n",
              "      <th>min</th>\n",
              "      <td>108.0</td>\n",
              "      <td>-19.200000</td>\n",
              "      <td>-23.100000</td>\n",
              "      <td>-16.300000</td>\n",
              "    </tr>\n",
              "    <tr>\n",
              "      <th>25%</th>\n",
              "      <td>108.0</td>\n",
              "      <td>2.700000</td>\n",
              "      <td>-1.400000</td>\n",
              "      <td>7.200000</td>\n",
              "    </tr>\n",
              "    <tr>\n",
              "      <th>50%</th>\n",
              "      <td>108.0</td>\n",
              "      <td>13.000000</td>\n",
              "      <td>8.000000</td>\n",
              "      <td>18.600000</td>\n",
              "    </tr>\n",
              "    <tr>\n",
              "      <th>75%</th>\n",
              "      <td>108.0</td>\n",
              "      <td>21.200000</td>\n",
              "      <td>17.100000</td>\n",
              "      <td>26.300000</td>\n",
              "    </tr>\n",
              "    <tr>\n",
              "      <th>max</th>\n",
              "      <td>108.0</td>\n",
              "      <td>33.700000</td>\n",
              "      <td>30.300000</td>\n",
              "      <td>39.600000</td>\n",
              "    </tr>\n",
              "  </tbody>\n",
              "</table>\n",
              "</div>"
            ],
            "text/plain": [
              "            지점       평균기온(℃)       최저기온(℃)       최고기온(℃)\n",
              "count  41159.0  40403.000000  40402.000000  40401.000000\n",
              "mean     108.0     11.753511      7.459730     16.760996\n",
              "std        0.0     10.658904     10.884408     10.982077\n",
              "min      108.0    -19.200000    -23.100000    -16.300000\n",
              "25%      108.0      2.700000     -1.400000      7.200000\n",
              "50%      108.0     13.000000      8.000000     18.600000\n",
              "75%      108.0     21.200000     17.100000     26.300000\n",
              "max      108.0     33.700000     30.300000     39.600000"
            ]
          },
          "metadata": {},
          "execution_count": 10
        }
      ]
    },
    {
      "cell_type": "code",
      "metadata": {
        "colab": {
          "base_uri": "https://localhost:8080/"
        },
        "id": "kgPZiosGkQ5K",
        "outputId": "0cec5f1d-6257-4e18-d0a2-8073ec1bcf94"
      },
      "source": [
        "# 최고기온, idxmax() 함수 사용\n",
        "df.iloc[df['최고기온(℃)'].idxmax(), :]"
      ],
      "execution_count": null,
      "outputs": [
        {
          "output_type": "execute_result",
          "data": {
            "text/plain": [
              "날짜         2018-08-01\n",
              "지점                108\n",
              "평균기온(℃)          33.6\n",
              "최저기온(℃)          27.8\n",
              "최고기온(℃)          39.6\n",
              "Name: 40051, dtype: object"
            ]
          },
          "metadata": {},
          "execution_count": 3
        }
      ]
    },
    {
      "cell_type": "code",
      "metadata": {
        "colab": {
          "base_uri": "https://localhost:8080/"
        },
        "id": "CAR-Q3FKlAlN",
        "outputId": "2d333afa-343c-41c5-d922-bf3dccdadfe2"
      },
      "source": [
        "# 최저기온, idxmin() 함수 사용\n",
        "df.iloc[df['최저기온(℃)'].idxmin(), :]"
      ],
      "execution_count": null,
      "outputs": [
        {
          "output_type": "execute_result",
          "data": {
            "text/plain": [
              "날짜         1927-12-31\n",
              "지점                108\n",
              "평균기온(℃)         -15.3\n",
              "최저기온(℃)         -23.1\n",
              "최고기온(℃)          -6.4\n",
              "Name: 7396, dtype: object"
            ]
          },
          "metadata": {},
          "execution_count": 4
        }
      ]
    },
    {
      "cell_type": "code",
      "metadata": {
        "colab": {
          "base_uri": "https://localhost:8080/",
          "height": 204
        },
        "id": "P9B8NJmPlO-t",
        "outputId": "9f86f798-4b06-413b-ec56-d0215ffaffb9"
      },
      "source": [
        "# 값을 기준으로 정렬 후 가져오기\n",
        "d = df.sort_values(by='최고기온(℃)', ascending=False) # 내림차순 정렬\n",
        "d.head()"
      ],
      "execution_count": null,
      "outputs": [
        {
          "output_type": "execute_result",
          "data": {
            "text/html": [
              "<div>\n",
              "<style scoped>\n",
              "    .dataframe tbody tr th:only-of-type {\n",
              "        vertical-align: middle;\n",
              "    }\n",
              "\n",
              "    .dataframe tbody tr th {\n",
              "        vertical-align: top;\n",
              "    }\n",
              "\n",
              "    .dataframe thead th {\n",
              "        text-align: right;\n",
              "    }\n",
              "</style>\n",
              "<table border=\"1\" class=\"dataframe\">\n",
              "  <thead>\n",
              "    <tr style=\"text-align: right;\">\n",
              "      <th></th>\n",
              "      <th>날짜</th>\n",
              "      <th>지점</th>\n",
              "      <th>평균기온(℃)</th>\n",
              "      <th>최저기온(℃)</th>\n",
              "      <th>최고기온(℃)</th>\n",
              "    </tr>\n",
              "  </thead>\n",
              "  <tbody>\n",
              "    <tr>\n",
              "      <th>40051</th>\n",
              "      <td>2018-08-01</td>\n",
              "      <td>108</td>\n",
              "      <td>33.6</td>\n",
              "      <td>27.8</td>\n",
              "      <td>39.6</td>\n",
              "    </tr>\n",
              "    <tr>\n",
              "      <th>31277</th>\n",
              "      <td>1994-07-24</td>\n",
              "      <td>108</td>\n",
              "      <td>33.1</td>\n",
              "      <td>28.1</td>\n",
              "      <td>38.4</td>\n",
              "    </tr>\n",
              "    <tr>\n",
              "      <th>40050</th>\n",
              "      <td>2018-07-31</td>\n",
              "      <td>108</td>\n",
              "      <td>32.6</td>\n",
              "      <td>27.8</td>\n",
              "      <td>38.3</td>\n",
              "    </tr>\n",
              "    <tr>\n",
              "      <th>31276</th>\n",
              "      <td>1994-07-23</td>\n",
              "      <td>108</td>\n",
              "      <td>32.6</td>\n",
              "      <td>28.0</td>\n",
              "      <td>38.2</td>\n",
              "    </tr>\n",
              "    <tr>\n",
              "      <th>13111</th>\n",
              "      <td>1943-08-24</td>\n",
              "      <td>108</td>\n",
              "      <td>29.0</td>\n",
              "      <td>23.2</td>\n",
              "      <td>38.2</td>\n",
              "    </tr>\n",
              "  </tbody>\n",
              "</table>\n",
              "</div>"
            ],
            "text/plain": [
              "               날짜   지점  평균기온(℃)  최저기온(℃)  최고기온(℃)\n",
              "40051  2018-08-01  108     33.6     27.8     39.6\n",
              "31277  1994-07-24  108     33.1     28.1     38.4\n",
              "40050  2018-07-31  108     32.6     27.8     38.3\n",
              "31276  1994-07-23  108     32.6     28.0     38.2\n",
              "13111  1943-08-24  108     29.0     23.2     38.2"
            ]
          },
          "metadata": {},
          "execution_count": 5
        }
      ]
    },
    {
      "cell_type": "code",
      "metadata": {
        "colab": {
          "base_uri": "https://localhost:8080/",
          "height": 145
        },
        "id": "wnhBR8JKlytb",
        "outputId": "8425cce9-062d-4444-e74f-cc612475f54f"
      },
      "source": [
        "d.head().style.background_gradient(cmap='summer')"
      ],
      "execution_count": null,
      "outputs": [
        {
          "output_type": "execute_result",
          "data": {
            "text/html": [
              "<style  type=\"text/css\" >\n",
              "#T_abb60818_0bed_11ec_af20_0242ac1c0002row0_col1,#T_abb60818_0bed_11ec_af20_0242ac1c0002row1_col1,#T_abb60818_0bed_11ec_af20_0242ac1c0002row2_col1,#T_abb60818_0bed_11ec_af20_0242ac1c0002row3_col1,#T_abb60818_0bed_11ec_af20_0242ac1c0002row3_col4,#T_abb60818_0bed_11ec_af20_0242ac1c0002row4_col1,#T_abb60818_0bed_11ec_af20_0242ac1c0002row4_col2,#T_abb60818_0bed_11ec_af20_0242ac1c0002row4_col3,#T_abb60818_0bed_11ec_af20_0242ac1c0002row4_col4{\n",
              "            background-color:  #008066;\n",
              "            color:  #f1f1f1;\n",
              "        }#T_abb60818_0bed_11ec_af20_0242ac1c0002row0_col2,#T_abb60818_0bed_11ec_af20_0242ac1c0002row0_col4,#T_abb60818_0bed_11ec_af20_0242ac1c0002row1_col3{\n",
              "            background-color:  #ffff66;\n",
              "            color:  #000000;\n",
              "        }#T_abb60818_0bed_11ec_af20_0242ac1c0002row0_col3,#T_abb60818_0bed_11ec_af20_0242ac1c0002row2_col3{\n",
              "            background-color:  #f0f866;\n",
              "            color:  #000000;\n",
              "        }#T_abb60818_0bed_11ec_af20_0242ac1c0002row1_col2{\n",
              "            background-color:  #e4f266;\n",
              "            color:  #000000;\n",
              "        }#T_abb60818_0bed_11ec_af20_0242ac1c0002row1_col4{\n",
              "            background-color:  #249266;\n",
              "            color:  #000000;\n",
              "        }#T_abb60818_0bed_11ec_af20_0242ac1c0002row2_col2,#T_abb60818_0bed_11ec_af20_0242ac1c0002row3_col2{\n",
              "            background-color:  #c8e366;\n",
              "            color:  #000000;\n",
              "        }#T_abb60818_0bed_11ec_af20_0242ac1c0002row2_col4{\n",
              "            background-color:  #128866;\n",
              "            color:  #000000;\n",
              "        }#T_abb60818_0bed_11ec_af20_0242ac1c0002row3_col3{\n",
              "            background-color:  #fafc66;\n",
              "            color:  #000000;\n",
              "        }</style><table id=\"T_abb60818_0bed_11ec_af20_0242ac1c0002\" ><thead>    <tr>        <th class=\"blank level0\" ></th>        <th class=\"col_heading level0 col0\" >날짜</th>        <th class=\"col_heading level0 col1\" >지점</th>        <th class=\"col_heading level0 col2\" >평균기온(℃)</th>        <th class=\"col_heading level0 col3\" >최저기온(℃)</th>        <th class=\"col_heading level0 col4\" >최고기온(℃)</th>    </tr></thead><tbody>\n",
              "                <tr>\n",
              "                        <th id=\"T_abb60818_0bed_11ec_af20_0242ac1c0002level0_row0\" class=\"row_heading level0 row0\" >40051</th>\n",
              "                        <td id=\"T_abb60818_0bed_11ec_af20_0242ac1c0002row0_col0\" class=\"data row0 col0\" >2018-08-01</td>\n",
              "                        <td id=\"T_abb60818_0bed_11ec_af20_0242ac1c0002row0_col1\" class=\"data row0 col1\" >108</td>\n",
              "                        <td id=\"T_abb60818_0bed_11ec_af20_0242ac1c0002row0_col2\" class=\"data row0 col2\" >33.600000</td>\n",
              "                        <td id=\"T_abb60818_0bed_11ec_af20_0242ac1c0002row0_col3\" class=\"data row0 col3\" >27.800000</td>\n",
              "                        <td id=\"T_abb60818_0bed_11ec_af20_0242ac1c0002row0_col4\" class=\"data row0 col4\" >39.600000</td>\n",
              "            </tr>\n",
              "            <tr>\n",
              "                        <th id=\"T_abb60818_0bed_11ec_af20_0242ac1c0002level0_row1\" class=\"row_heading level0 row1\" >31277</th>\n",
              "                        <td id=\"T_abb60818_0bed_11ec_af20_0242ac1c0002row1_col0\" class=\"data row1 col0\" >1994-07-24</td>\n",
              "                        <td id=\"T_abb60818_0bed_11ec_af20_0242ac1c0002row1_col1\" class=\"data row1 col1\" >108</td>\n",
              "                        <td id=\"T_abb60818_0bed_11ec_af20_0242ac1c0002row1_col2\" class=\"data row1 col2\" >33.100000</td>\n",
              "                        <td id=\"T_abb60818_0bed_11ec_af20_0242ac1c0002row1_col3\" class=\"data row1 col3\" >28.100000</td>\n",
              "                        <td id=\"T_abb60818_0bed_11ec_af20_0242ac1c0002row1_col4\" class=\"data row1 col4\" >38.400000</td>\n",
              "            </tr>\n",
              "            <tr>\n",
              "                        <th id=\"T_abb60818_0bed_11ec_af20_0242ac1c0002level0_row2\" class=\"row_heading level0 row2\" >40050</th>\n",
              "                        <td id=\"T_abb60818_0bed_11ec_af20_0242ac1c0002row2_col0\" class=\"data row2 col0\" >2018-07-31</td>\n",
              "                        <td id=\"T_abb60818_0bed_11ec_af20_0242ac1c0002row2_col1\" class=\"data row2 col1\" >108</td>\n",
              "                        <td id=\"T_abb60818_0bed_11ec_af20_0242ac1c0002row2_col2\" class=\"data row2 col2\" >32.600000</td>\n",
              "                        <td id=\"T_abb60818_0bed_11ec_af20_0242ac1c0002row2_col3\" class=\"data row2 col3\" >27.800000</td>\n",
              "                        <td id=\"T_abb60818_0bed_11ec_af20_0242ac1c0002row2_col4\" class=\"data row2 col4\" >38.300000</td>\n",
              "            </tr>\n",
              "            <tr>\n",
              "                        <th id=\"T_abb60818_0bed_11ec_af20_0242ac1c0002level0_row3\" class=\"row_heading level0 row3\" >31276</th>\n",
              "                        <td id=\"T_abb60818_0bed_11ec_af20_0242ac1c0002row3_col0\" class=\"data row3 col0\" >1994-07-23</td>\n",
              "                        <td id=\"T_abb60818_0bed_11ec_af20_0242ac1c0002row3_col1\" class=\"data row3 col1\" >108</td>\n",
              "                        <td id=\"T_abb60818_0bed_11ec_af20_0242ac1c0002row3_col2\" class=\"data row3 col2\" >32.600000</td>\n",
              "                        <td id=\"T_abb60818_0bed_11ec_af20_0242ac1c0002row3_col3\" class=\"data row3 col3\" >28.000000</td>\n",
              "                        <td id=\"T_abb60818_0bed_11ec_af20_0242ac1c0002row3_col4\" class=\"data row3 col4\" >38.200000</td>\n",
              "            </tr>\n",
              "            <tr>\n",
              "                        <th id=\"T_abb60818_0bed_11ec_af20_0242ac1c0002level0_row4\" class=\"row_heading level0 row4\" >13111</th>\n",
              "                        <td id=\"T_abb60818_0bed_11ec_af20_0242ac1c0002row4_col0\" class=\"data row4 col0\" >1943-08-24</td>\n",
              "                        <td id=\"T_abb60818_0bed_11ec_af20_0242ac1c0002row4_col1\" class=\"data row4 col1\" >108</td>\n",
              "                        <td id=\"T_abb60818_0bed_11ec_af20_0242ac1c0002row4_col2\" class=\"data row4 col2\" >29.000000</td>\n",
              "                        <td id=\"T_abb60818_0bed_11ec_af20_0242ac1c0002row4_col3\" class=\"data row4 col3\" >23.200000</td>\n",
              "                        <td id=\"T_abb60818_0bed_11ec_af20_0242ac1c0002row4_col4\" class=\"data row4 col4\" >38.200000</td>\n",
              "            </tr>\n",
              "    </tbody></table>"
            ],
            "text/plain": [
              "<pandas.io.formats.style.Styler at 0x7ff6eb357c50>"
            ]
          },
          "metadata": {},
          "execution_count": 7
        }
      ]
    },
    {
      "cell_type": "code",
      "metadata": {
        "colab": {
          "base_uri": "https://localhost:8080/",
          "height": 204
        },
        "id": "P9dXp4kZmIek",
        "outputId": "8b145c57-331a-4ffb-9e2b-555a03d63b77"
      },
      "source": [
        "# 값을 기준으로 정렬 후 가져오기\n",
        "d = df.sort_values(by='최저기온(℃)', ascending=True) # 내림차순 정렬\n",
        "d.head()"
      ],
      "execution_count": null,
      "outputs": [
        {
          "output_type": "execute_result",
          "data": {
            "text/html": [
              "<div>\n",
              "<style scoped>\n",
              "    .dataframe tbody tr th:only-of-type {\n",
              "        vertical-align: middle;\n",
              "    }\n",
              "\n",
              "    .dataframe tbody tr th {\n",
              "        vertical-align: top;\n",
              "    }\n",
              "\n",
              "    .dataframe thead th {\n",
              "        text-align: right;\n",
              "    }\n",
              "</style>\n",
              "<table border=\"1\" class=\"dataframe\">\n",
              "  <thead>\n",
              "    <tr style=\"text-align: right;\">\n",
              "      <th></th>\n",
              "      <th>날짜</th>\n",
              "      <th>지점</th>\n",
              "      <th>평균기온(℃)</th>\n",
              "      <th>최저기온(℃)</th>\n",
              "      <th>최고기온(℃)</th>\n",
              "    </tr>\n",
              "  </thead>\n",
              "  <tbody>\n",
              "    <tr>\n",
              "      <th>7396</th>\n",
              "      <td>1927-12-31</td>\n",
              "      <td>108</td>\n",
              "      <td>-15.3</td>\n",
              "      <td>-23.1</td>\n",
              "      <td>-6.4</td>\n",
              "    </tr>\n",
              "    <tr>\n",
              "      <th>8503</th>\n",
              "      <td>1931-01-11</td>\n",
              "      <td>108</td>\n",
              "      <td>-17.4</td>\n",
              "      <td>-22.5</td>\n",
              "      <td>-14.7</td>\n",
              "    </tr>\n",
              "    <tr>\n",
              "      <th>4478</th>\n",
              "      <td>1920-01-04</td>\n",
              "      <td>108</td>\n",
              "      <td>-14.7</td>\n",
              "      <td>-22.3</td>\n",
              "      <td>-8.5</td>\n",
              "    </tr>\n",
              "    <tr>\n",
              "      <th>7401</th>\n",
              "      <td>1928-01-05</td>\n",
              "      <td>108</td>\n",
              "      <td>-15.1</td>\n",
              "      <td>-22.2</td>\n",
              "      <td>-10.6</td>\n",
              "    </tr>\n",
              "    <tr>\n",
              "      <th>8502</th>\n",
              "      <td>1931-01-10</td>\n",
              "      <td>108</td>\n",
              "      <td>-18.9</td>\n",
              "      <td>-21.9</td>\n",
              "      <td>-13.0</td>\n",
              "    </tr>\n",
              "  </tbody>\n",
              "</table>\n",
              "</div>"
            ],
            "text/plain": [
              "              날짜   지점  평균기온(℃)  최저기온(℃)  최고기온(℃)\n",
              "7396  1927-12-31  108    -15.3    -23.1     -6.4\n",
              "8503  1931-01-11  108    -17.4    -22.5    -14.7\n",
              "4478  1920-01-04  108    -14.7    -22.3     -8.5\n",
              "7401  1928-01-05  108    -15.1    -22.2    -10.6\n",
              "8502  1931-01-10  108    -18.9    -21.9    -13.0"
            ]
          },
          "metadata": {},
          "execution_count": 8
        }
      ]
    },
    {
      "cell_type": "code",
      "metadata": {
        "colab": {
          "base_uri": "https://localhost:8080/",
          "height": 145
        },
        "id": "rJg7wIEImdn1",
        "outputId": "13c8c8d5-7c80-4562-dca6-9efb40aeda8b"
      },
      "source": [
        "d.head().style.background_gradient(cmap='summer')"
      ],
      "execution_count": null,
      "outputs": [
        {
          "output_type": "execute_result",
          "data": {
            "text/html": [
              "<style  type=\"text/css\" >\n",
              "#T_ea2e28e6_0bed_11ec_af20_0242ac1c0002row0_col1,#T_ea2e28e6_0bed_11ec_af20_0242ac1c0002row0_col3,#T_ea2e28e6_0bed_11ec_af20_0242ac1c0002row1_col1,#T_ea2e28e6_0bed_11ec_af20_0242ac1c0002row1_col4,#T_ea2e28e6_0bed_11ec_af20_0242ac1c0002row2_col1,#T_ea2e28e6_0bed_11ec_af20_0242ac1c0002row3_col1,#T_ea2e28e6_0bed_11ec_af20_0242ac1c0002row4_col1,#T_ea2e28e6_0bed_11ec_af20_0242ac1c0002row4_col2{\n",
              "            background-color:  #008066;\n",
              "            color:  #f1f1f1;\n",
              "        }#T_ea2e28e6_0bed_11ec_af20_0242ac1c0002row0_col2{\n",
              "            background-color:  #dbed66;\n",
              "            color:  #000000;\n",
              "        }#T_ea2e28e6_0bed_11ec_af20_0242ac1c0002row0_col4,#T_ea2e28e6_0bed_11ec_af20_0242ac1c0002row2_col2,#T_ea2e28e6_0bed_11ec_af20_0242ac1c0002row4_col3{\n",
              "            background-color:  #ffff66;\n",
              "            color:  #000000;\n",
              "        }#T_ea2e28e6_0bed_11ec_af20_0242ac1c0002row1_col2{\n",
              "            background-color:  #5bad66;\n",
              "            color:  #000000;\n",
              "        }#T_ea2e28e6_0bed_11ec_af20_0242ac1c0002row1_col3{\n",
              "            background-color:  #80c066;\n",
              "            color:  #000000;\n",
              "        }#T_ea2e28e6_0bed_11ec_af20_0242ac1c0002row2_col3{\n",
              "            background-color:  #aad466;\n",
              "            color:  #000000;\n",
              "        }#T_ea2e28e6_0bed_11ec_af20_0242ac1c0002row2_col4{\n",
              "            background-color:  #bfdf66;\n",
              "            color:  #000000;\n",
              "        }#T_ea2e28e6_0bed_11ec_af20_0242ac1c0002row3_col2{\n",
              "            background-color:  #e7f366;\n",
              "            color:  #000000;\n",
              "        }#T_ea2e28e6_0bed_11ec_af20_0242ac1c0002row3_col3{\n",
              "            background-color:  #c0e066;\n",
              "            color:  #000000;\n",
              "        }#T_ea2e28e6_0bed_11ec_af20_0242ac1c0002row3_col4{\n",
              "            background-color:  #7ebe66;\n",
              "            color:  #000000;\n",
              "        }#T_ea2e28e6_0bed_11ec_af20_0242ac1c0002row4_col4{\n",
              "            background-color:  #349a66;\n",
              "            color:  #000000;\n",
              "        }</style><table id=\"T_ea2e28e6_0bed_11ec_af20_0242ac1c0002\" ><thead>    <tr>        <th class=\"blank level0\" ></th>        <th class=\"col_heading level0 col0\" >날짜</th>        <th class=\"col_heading level0 col1\" >지점</th>        <th class=\"col_heading level0 col2\" >평균기온(℃)</th>        <th class=\"col_heading level0 col3\" >최저기온(℃)</th>        <th class=\"col_heading level0 col4\" >최고기온(℃)</th>    </tr></thead><tbody>\n",
              "                <tr>\n",
              "                        <th id=\"T_ea2e28e6_0bed_11ec_af20_0242ac1c0002level0_row0\" class=\"row_heading level0 row0\" >7396</th>\n",
              "                        <td id=\"T_ea2e28e6_0bed_11ec_af20_0242ac1c0002row0_col0\" class=\"data row0 col0\" >1927-12-31</td>\n",
              "                        <td id=\"T_ea2e28e6_0bed_11ec_af20_0242ac1c0002row0_col1\" class=\"data row0 col1\" >108</td>\n",
              "                        <td id=\"T_ea2e28e6_0bed_11ec_af20_0242ac1c0002row0_col2\" class=\"data row0 col2\" >-15.300000</td>\n",
              "                        <td id=\"T_ea2e28e6_0bed_11ec_af20_0242ac1c0002row0_col3\" class=\"data row0 col3\" >-23.100000</td>\n",
              "                        <td id=\"T_ea2e28e6_0bed_11ec_af20_0242ac1c0002row0_col4\" class=\"data row0 col4\" >-6.400000</td>\n",
              "            </tr>\n",
              "            <tr>\n",
              "                        <th id=\"T_ea2e28e6_0bed_11ec_af20_0242ac1c0002level0_row1\" class=\"row_heading level0 row1\" >8503</th>\n",
              "                        <td id=\"T_ea2e28e6_0bed_11ec_af20_0242ac1c0002row1_col0\" class=\"data row1 col0\" >1931-01-11</td>\n",
              "                        <td id=\"T_ea2e28e6_0bed_11ec_af20_0242ac1c0002row1_col1\" class=\"data row1 col1\" >108</td>\n",
              "                        <td id=\"T_ea2e28e6_0bed_11ec_af20_0242ac1c0002row1_col2\" class=\"data row1 col2\" >-17.400000</td>\n",
              "                        <td id=\"T_ea2e28e6_0bed_11ec_af20_0242ac1c0002row1_col3\" class=\"data row1 col3\" >-22.500000</td>\n",
              "                        <td id=\"T_ea2e28e6_0bed_11ec_af20_0242ac1c0002row1_col4\" class=\"data row1 col4\" >-14.700000</td>\n",
              "            </tr>\n",
              "            <tr>\n",
              "                        <th id=\"T_ea2e28e6_0bed_11ec_af20_0242ac1c0002level0_row2\" class=\"row_heading level0 row2\" >4478</th>\n",
              "                        <td id=\"T_ea2e28e6_0bed_11ec_af20_0242ac1c0002row2_col0\" class=\"data row2 col0\" >1920-01-04</td>\n",
              "                        <td id=\"T_ea2e28e6_0bed_11ec_af20_0242ac1c0002row2_col1\" class=\"data row2 col1\" >108</td>\n",
              "                        <td id=\"T_ea2e28e6_0bed_11ec_af20_0242ac1c0002row2_col2\" class=\"data row2 col2\" >-14.700000</td>\n",
              "                        <td id=\"T_ea2e28e6_0bed_11ec_af20_0242ac1c0002row2_col3\" class=\"data row2 col3\" >-22.300000</td>\n",
              "                        <td id=\"T_ea2e28e6_0bed_11ec_af20_0242ac1c0002row2_col4\" class=\"data row2 col4\" >-8.500000</td>\n",
              "            </tr>\n",
              "            <tr>\n",
              "                        <th id=\"T_ea2e28e6_0bed_11ec_af20_0242ac1c0002level0_row3\" class=\"row_heading level0 row3\" >7401</th>\n",
              "                        <td id=\"T_ea2e28e6_0bed_11ec_af20_0242ac1c0002row3_col0\" class=\"data row3 col0\" >1928-01-05</td>\n",
              "                        <td id=\"T_ea2e28e6_0bed_11ec_af20_0242ac1c0002row3_col1\" class=\"data row3 col1\" >108</td>\n",
              "                        <td id=\"T_ea2e28e6_0bed_11ec_af20_0242ac1c0002row3_col2\" class=\"data row3 col2\" >-15.100000</td>\n",
              "                        <td id=\"T_ea2e28e6_0bed_11ec_af20_0242ac1c0002row3_col3\" class=\"data row3 col3\" >-22.200000</td>\n",
              "                        <td id=\"T_ea2e28e6_0bed_11ec_af20_0242ac1c0002row3_col4\" class=\"data row3 col4\" >-10.600000</td>\n",
              "            </tr>\n",
              "            <tr>\n",
              "                        <th id=\"T_ea2e28e6_0bed_11ec_af20_0242ac1c0002level0_row4\" class=\"row_heading level0 row4\" >8502</th>\n",
              "                        <td id=\"T_ea2e28e6_0bed_11ec_af20_0242ac1c0002row4_col0\" class=\"data row4 col0\" >1931-01-10</td>\n",
              "                        <td id=\"T_ea2e28e6_0bed_11ec_af20_0242ac1c0002row4_col1\" class=\"data row4 col1\" >108</td>\n",
              "                        <td id=\"T_ea2e28e6_0bed_11ec_af20_0242ac1c0002row4_col2\" class=\"data row4 col2\" >-18.900000</td>\n",
              "                        <td id=\"T_ea2e28e6_0bed_11ec_af20_0242ac1c0002row4_col3\" class=\"data row4 col3\" >-21.900000</td>\n",
              "                        <td id=\"T_ea2e28e6_0bed_11ec_af20_0242ac1c0002row4_col4\" class=\"data row4 col4\" >-13.000000</td>\n",
              "            </tr>\n",
              "    </tbody></table>"
            ],
            "text/plain": [
              "<pandas.io.formats.style.Styler at 0x7ff6e0006f10>"
            ]
          },
          "metadata": {},
          "execution_count": 9
        }
      ]
    },
    {
      "cell_type": "markdown",
      "metadata": {
        "id": "KTCkwWl1miba"
      },
      "source": [
        "### 생일의 기온 처리"
      ]
    },
    {
      "cell_type": "code",
      "metadata": {
        "colab": {
          "base_uri": "https://localhost:8080/",
          "height": 282
        },
        "id": "w_fyRD2kQEmM",
        "outputId": "f6c61f66-5646-4ff6-9d07-1530c942cab7"
      },
      "source": [
        "# 생일에 해당하는 행만 가져와서 그래프 그리기\n",
        "birth = df[df['날짜'].str.contains('-05-10')]\n",
        "# NaN 행 제거\n",
        "birth = birth[birth['평균기온(℃)'].notnull()]\n",
        "birth[[ '최저기온(℃)', '최고기온(℃)',  '평균기온(℃)']].plot(figsize=(10,4))"
      ],
      "execution_count": null,
      "outputs": [
        {
          "output_type": "execute_result",
          "data": {
            "text/plain": [
              "<matplotlib.axes._subplots.AxesSubplot at 0x7ff9a11abbd0>"
            ]
          },
          "metadata": {},
          "execution_count": 3
        },
        {
          "output_type": "display_data",
          "data": {
            "image/png": "[encoded data removed]",
            "text/plain": [
              "<Figure size 720x288 with 1 Axes>"
            ]
          },
          "metadata": {
            "needs_background": "light"
          }
        }
      ]
    },
    {
      "cell_type": "code",
      "metadata": {
        "id": "XzmxyqWrXfyC",
        "colab": {
          "base_uri": "https://localhost:8080/",
          "height": 297
        },
        "outputId": "69628721-c283-4432-9dc7-a5b800264b54"
      },
      "source": [
        "birth[[ '최저기온(℃)', '최고기온(℃)',  '평균기온(℃)']].describe()\n"
      ],
      "execution_count": null,
      "outputs": [
        {
          "output_type": "execute_result",
          "data": {
            "text/html": [
              "<div>\n",
              "<style scoped>\n",
              "    .dataframe tbody tr th:only-of-type {\n",
              "        vertical-align: middle;\n",
              "    }\n",
              "\n",
              "    .dataframe tbody tr th {\n",
              "        vertical-align: top;\n",
              "    }\n",
              "\n",
              "    .dataframe thead th {\n",
              "        text-align: right;\n",
              "    }\n",
              "</style>\n",
              "<table border=\"1\" class=\"dataframe\">\n",
              "  <thead>\n",
              "    <tr style=\"text-align: right;\">\n",
              "      <th></th>\n",
              "      <th>최저기온(℃)</th>\n",
              "      <th>최고기온(℃)</th>\n",
              "      <th>평균기온(℃)</th>\n",
              "    </tr>\n",
              "  </thead>\n",
              "  <tbody>\n",
              "    <tr>\n",
              "      <th>count</th>\n",
              "      <td>111.000000</td>\n",
              "      <td>111.000000</td>\n",
              "      <td>111.000000</td>\n",
              "    </tr>\n",
              "    <tr>\n",
              "      <th>mean</th>\n",
              "      <td>11.501802</td>\n",
              "      <td>22.272973</td>\n",
              "      <td>16.360360</td>\n",
              "    </tr>\n",
              "    <tr>\n",
              "      <th>std</th>\n",
              "      <td>2.845826</td>\n",
              "      <td>3.414140</td>\n",
              "      <td>2.626345</td>\n",
              "    </tr>\n",
              "    <tr>\n",
              "      <th>min</th>\n",
              "      <td>4.600000</td>\n",
              "      <td>14.600000</td>\n",
              "      <td>9.000000</td>\n",
              "    </tr>\n",
              "    <tr>\n",
              "      <th>25%</th>\n",
              "      <td>9.500000</td>\n",
              "      <td>20.200000</td>\n",
              "      <td>14.500000</td>\n",
              "    </tr>\n",
              "    <tr>\n",
              "      <th>50%</th>\n",
              "      <td>11.500000</td>\n",
              "      <td>21.600000</td>\n",
              "      <td>16.200000</td>\n",
              "    </tr>\n",
              "    <tr>\n",
              "      <th>75%</th>\n",
              "      <td>13.550000</td>\n",
              "      <td>24.900000</td>\n",
              "      <td>18.150000</td>\n",
              "    </tr>\n",
              "    <tr>\n",
              "      <th>max</th>\n",
              "      <td>19.700000</td>\n",
              "      <td>30.000000</td>\n",
              "      <td>22.600000</td>\n",
              "    </tr>\n",
              "  </tbody>\n",
              "</table>\n",
              "</div>"
            ],
            "text/plain": [
              "          최저기온(℃)     최고기온(℃)     평균기온(℃)\n",
              "count  111.000000  111.000000  111.000000\n",
              "mean    11.501802   22.272973   16.360360\n",
              "std      2.845826    3.414140    2.626345\n",
              "min      4.600000   14.600000    9.000000\n",
              "25%      9.500000   20.200000   14.500000\n",
              "50%     11.500000   21.600000   16.200000\n",
              "75%     13.550000   24.900000   18.150000\n",
              "max     19.700000   30.000000   22.600000"
            ]
          },
          "metadata": {},
          "execution_count": 4
        }
      ]
    },
    {
      "cell_type": "code",
      "metadata": {
        "colab": {
          "base_uri": "https://localhost:8080/"
        },
        "id": "vO3RQX1dQaMn",
        "outputId": "9e6315a4-8930-4ea8-a3be-8e9c6763c4c2"
      },
      "source": [
        "print(f\"내 생일의 최고 기온 : {birth['최고기온(℃)'].max():.2f}\\n 최저 기온 : {birth['최고기온(℃)'].min():.2f} \\n 평균 기온 : {birth['최고기온(℃)'].mean():.2f}\")"
      ],
      "execution_count": null,
      "outputs": [
        {
          "output_type": "stream",
          "name": "stdout",
          "text": [
            "내 생일의 최고 기온 : 30.00\n",
            " 최저 기온 : 14.60 \n",
            " 평균 기온 : 22.27\n"
          ]
        }
      ]
    },
    {
      "cell_type": "markdown",
      "metadata": {
        "id": "d9XVf7ET8mD8"
      },
      "source": [
        "### Pandas로 N 년씩 그룹핑하기\n",
        "1. 날짜의 앞 4자리만 가져와서 새로운 데이터프레임을 만든다.\n",
        "1. 정수로 변환한 후 원래 데이터프레임과 년도 데이터프레임을 열로 합친다.\n",
        "1. 년도를 N으로 나눈 나머지로 group 열을 만든다.\n",
        "1. 그래프를 그린다."
      ]
    },
    {
      "cell_type": "code",
      "metadata": {
        "colab": {
          "base_uri": "https://localhost:8080/",
          "height": 419
        },
        "id": "KFwUcBo11dJH",
        "outputId": "efb6a12f-7738-47c7-c37d-54ef13a6079e"
      },
      "source": [
        "df1 = df.copy()\n",
        "df1"
      ],
      "execution_count": null,
      "outputs": [
        {
          "output_type": "execute_result",
          "data": {
            "text/html": [
              "<div>\n",
              "<style scoped>\n",
              "    .dataframe tbody tr th:only-of-type {\n",
              "        vertical-align: middle;\n",
              "    }\n",
              "\n",
              "    .dataframe tbody tr th {\n",
              "        vertical-align: top;\n",
              "    }\n",
              "\n",
              "    .dataframe thead th {\n",
              "        text-align: right;\n",
              "    }\n",
              "</style>\n",
              "<table border=\"1\" class=\"dataframe\">\n",
              "  <thead>\n",
              "    <tr style=\"text-align: right;\">\n",
              "      <th></th>\n",
              "      <th>날짜</th>\n",
              "      <th>지점</th>\n",
              "      <th>평균기온(℃)</th>\n",
              "      <th>최저기온(℃)</th>\n",
              "      <th>최고기온(℃)</th>\n",
              "    </tr>\n",
              "  </thead>\n",
              "  <tbody>\n",
              "    <tr>\n",
              "      <th>0</th>\n",
              "      <td>1907-10-01</td>\n",
              "      <td>108</td>\n",
              "      <td>13.5</td>\n",
              "      <td>7.9</td>\n",
              "      <td>20.7</td>\n",
              "    </tr>\n",
              "    <tr>\n",
              "      <th>1</th>\n",
              "      <td>1907-10-02</td>\n",
              "      <td>108</td>\n",
              "      <td>16.2</td>\n",
              "      <td>7.9</td>\n",
              "      <td>22.0</td>\n",
              "    </tr>\n",
              "    <tr>\n",
              "      <th>2</th>\n",
              "      <td>1907-10-03</td>\n",
              "      <td>108</td>\n",
              "      <td>16.2</td>\n",
              "      <td>13.1</td>\n",
              "      <td>21.3</td>\n",
              "    </tr>\n",
              "    <tr>\n",
              "      <th>3</th>\n",
              "      <td>1907-10-04</td>\n",
              "      <td>108</td>\n",
              "      <td>16.5</td>\n",
              "      <td>11.2</td>\n",
              "      <td>22.0</td>\n",
              "    </tr>\n",
              "    <tr>\n",
              "      <th>4</th>\n",
              "      <td>1907-10-05</td>\n",
              "      <td>108</td>\n",
              "      <td>17.6</td>\n",
              "      <td>10.9</td>\n",
              "      <td>25.4</td>\n",
              "    </tr>\n",
              "    <tr>\n",
              "      <th>...</th>\n",
              "      <td>...</td>\n",
              "      <td>...</td>\n",
              "      <td>...</td>\n",
              "      <td>...</td>\n",
              "      <td>...</td>\n",
              "    </tr>\n",
              "    <tr>\n",
              "      <th>41154</th>\n",
              "      <td>2021-08-08</td>\n",
              "      <td>108</td>\n",
              "      <td>26.8</td>\n",
              "      <td>24.4</td>\n",
              "      <td>32.1</td>\n",
              "    </tr>\n",
              "    <tr>\n",
              "      <th>41155</th>\n",
              "      <td>2021-08-09</td>\n",
              "      <td>108</td>\n",
              "      <td>28.3</td>\n",
              "      <td>23.3</td>\n",
              "      <td>33.6</td>\n",
              "    </tr>\n",
              "    <tr>\n",
              "      <th>41156</th>\n",
              "      <td>2021-08-10</td>\n",
              "      <td>108</td>\n",
              "      <td>27.7</td>\n",
              "      <td>24.3</td>\n",
              "      <td>32.2</td>\n",
              "    </tr>\n",
              "    <tr>\n",
              "      <th>41157</th>\n",
              "      <td>2021-08-11</td>\n",
              "      <td>108</td>\n",
              "      <td>27.4</td>\n",
              "      <td>24.1</td>\n",
              "      <td>31.6</td>\n",
              "    </tr>\n",
              "    <tr>\n",
              "      <th>41158</th>\n",
              "      <td>2021-08-12</td>\n",
              "      <td>108</td>\n",
              "      <td>26.8</td>\n",
              "      <td>24.0</td>\n",
              "      <td>31.7</td>\n",
              "    </tr>\n",
              "  </tbody>\n",
              "</table>\n",
              "<p>41159 rows × 5 columns</p>\n",
              "</div>"
            ],
            "text/plain": [
              "               날짜   지점  평균기온(℃)  최저기온(℃)  최고기온(℃)\n",
              "0      1907-10-01  108     13.5      7.9     20.7\n",
              "1      1907-10-02  108     16.2      7.9     22.0\n",
              "2      1907-10-03  108     16.2     13.1     21.3\n",
              "3      1907-10-04  108     16.5     11.2     22.0\n",
              "4      1907-10-05  108     17.6     10.9     25.4\n",
              "...           ...  ...      ...      ...      ...\n",
              "41154  2021-08-08  108     26.8     24.4     32.1\n",
              "41155  2021-08-09  108     28.3     23.3     33.6\n",
              "41156  2021-08-10  108     27.7     24.3     32.2\n",
              "41157  2021-08-11  108     27.4     24.1     31.6\n",
              "41158  2021-08-12  108     26.8     24.0     31.7\n",
              "\n",
              "[41159 rows x 5 columns]"
            ]
          },
          "metadata": {},
          "execution_count": 61
        }
      ]
    },
    {
      "cell_type": "code",
      "metadata": {
        "id": "lGE5R9sH1olb"
      },
      "source": [
        "# 날짜를 잘라서 년도만 가져오기\n",
        "df1['년도'] = df1['날짜'].str.slice(0,4).astype(int)\n",
        "# 10년 단위 그룹으로 나누기\n",
        "df1['그룹'] = df1['년도'] // 10\n",
        "# 월 추가\n",
        "df1['월'] = df1['날짜'].str.slice(5,7).astype(int)\n",
        "# 월을 계절로 바꾸기, 0 : 겨울, 1 : 봄, 2 : 여름, 3 : 가을\n",
        "df1['계절'] = (df1['월'] // 3) % 4"
      ],
      "execution_count": null,
      "outputs": []
    },
    {
      "cell_type": "code",
      "metadata": {
        "colab": {
          "base_uri": "https://localhost:8080/",
          "height": 419
        },
        "id": "LWNCQWP16rqp",
        "outputId": "7a246ac7-fcee-4ee4-e95c-37c0ec19eead"
      },
      "source": [
        "df1"
      ],
      "execution_count": null,
      "outputs": [
        {
          "output_type": "execute_result",
          "data": {
            "text/html": [
              "<div>\n",
              "<style scoped>\n",
              "    .dataframe tbody tr th:only-of-type {\n",
              "        vertical-align: middle;\n",
              "    }\n",
              "\n",
              "    .dataframe tbody tr th {\n",
              "        vertical-align: top;\n",
              "    }\n",
              "\n",
              "    .dataframe thead th {\n",
              "        text-align: right;\n",
              "    }\n",
              "</style>\n",
              "<table border=\"1\" class=\"dataframe\">\n",
              "  <thead>\n",
              "    <tr style=\"text-align: right;\">\n",
              "      <th></th>\n",
              "      <th>날짜</th>\n",
              "      <th>지점</th>\n",
              "      <th>평균기온(℃)</th>\n",
              "      <th>최저기온(℃)</th>\n",
              "      <th>최고기온(℃)</th>\n",
              "      <th>년도</th>\n",
              "      <th>그룹</th>\n",
              "      <th>월</th>\n",
              "      <th>계절</th>\n",
              "    </tr>\n",
              "  </thead>\n",
              "  <tbody>\n",
              "    <tr>\n",
              "      <th>0</th>\n",
              "      <td>1907-10-01</td>\n",
              "      <td>108</td>\n",
              "      <td>13.5</td>\n",
              "      <td>7.9</td>\n",
              "      <td>20.7</td>\n",
              "      <td>1907</td>\n",
              "      <td>190</td>\n",
              "      <td>10</td>\n",
              "      <td>3</td>\n",
              "    </tr>\n",
              "    <tr>\n",
              "      <th>1</th>\n",
              "      <td>1907-10-02</td>\n",
              "      <td>108</td>\n",
              "      <td>16.2</td>\n",
              "      <td>7.9</td>\n",
              "      <td>22.0</td>\n",
              "      <td>1907</td>\n",
              "      <td>190</td>\n",
              "      <td>10</td>\n",
              "      <td>3</td>\n",
              "    </tr>\n",
              "    <tr>\n",
              "      <th>2</th>\n",
              "      <td>1907-10-03</td>\n",
              "      <td>108</td>\n",
              "      <td>16.2</td>\n",
              "      <td>13.1</td>\n",
              "      <td>21.3</td>\n",
              "      <td>1907</td>\n",
              "      <td>190</td>\n",
              "      <td>10</td>\n",
              "      <td>3</td>\n",
              "    </tr>\n",
              "    <tr>\n",
              "      <th>3</th>\n",
              "      <td>1907-10-04</td>\n",
              "      <td>108</td>\n",
              "      <td>16.5</td>\n",
              "      <td>11.2</td>\n",
              "      <td>22.0</td>\n",
              "      <td>1907</td>\n",
              "      <td>190</td>\n",
              "      <td>10</td>\n",
              "      <td>3</td>\n",
              "    </tr>\n",
              "    <tr>\n",
              "      <th>4</th>\n",
              "      <td>1907-10-05</td>\n",
              "      <td>108</td>\n",
              "      <td>17.6</td>\n",
              "      <td>10.9</td>\n",
              "      <td>25.4</td>\n",
              "      <td>1907</td>\n",
              "      <td>190</td>\n",
              "      <td>10</td>\n",
              "      <td>3</td>\n",
              "    </tr>\n",
              "    <tr>\n",
              "      <th>...</th>\n",
              "      <td>...</td>\n",
              "      <td>...</td>\n",
              "      <td>...</td>\n",
              "      <td>...</td>\n",
              "      <td>...</td>\n",
              "      <td>...</td>\n",
              "      <td>...</td>\n",
              "      <td>...</td>\n",
              "      <td>...</td>\n",
              "    </tr>\n",
              "    <tr>\n",
              "      <th>41154</th>\n",
              "      <td>2021-08-08</td>\n",
              "      <td>108</td>\n",
              "      <td>26.8</td>\n",
              "      <td>24.4</td>\n",
              "      <td>32.1</td>\n",
              "      <td>2021</td>\n",
              "      <td>202</td>\n",
              "      <td>8</td>\n",
              "      <td>2</td>\n",
              "    </tr>\n",
              "    <tr>\n",
              "      <th>41155</th>\n",
              "      <td>2021-08-09</td>\n",
              "      <td>108</td>\n",
              "      <td>28.3</td>\n",
              "      <td>23.3</td>\n",
              "      <td>33.6</td>\n",
              "      <td>2021</td>\n",
              "      <td>202</td>\n",
              "      <td>8</td>\n",
              "      <td>2</td>\n",
              "    </tr>\n",
              "    <tr>\n",
              "      <th>41156</th>\n",
              "      <td>2021-08-10</td>\n",
              "      <td>108</td>\n",
              "      <td>27.7</td>\n",
              "      <td>24.3</td>\n",
              "      <td>32.2</td>\n",
              "      <td>2021</td>\n",
              "      <td>202</td>\n",
              "      <td>8</td>\n",
              "      <td>2</td>\n",
              "    </tr>\n",
              "    <tr>\n",
              "      <th>41157</th>\n",
              "      <td>2021-08-11</td>\n",
              "      <td>108</td>\n",
              "      <td>27.4</td>\n",
              "      <td>24.1</td>\n",
              "      <td>31.6</td>\n",
              "      <td>2021</td>\n",
              "      <td>202</td>\n",
              "      <td>8</td>\n",
              "      <td>2</td>\n",
              "    </tr>\n",
              "    <tr>\n",
              "      <th>41158</th>\n",
              "      <td>2021-08-12</td>\n",
              "      <td>108</td>\n",
              "      <td>26.8</td>\n",
              "      <td>24.0</td>\n",
              "      <td>31.7</td>\n",
              "      <td>2021</td>\n",
              "      <td>202</td>\n",
              "      <td>8</td>\n",
              "      <td>2</td>\n",
              "    </tr>\n",
              "  </tbody>\n",
              "</table>\n",
              "<p>41159 rows × 9 columns</p>\n",
              "</div>"
            ],
            "text/plain": [
              "               날짜   지점  평균기온(℃)  최저기온(℃)  최고기온(℃)    년도   그룹   월  계절\n",
              "0      1907-10-01  108     13.5      7.9     20.7  1907  190  10   3\n",
              "1      1907-10-02  108     16.2      7.9     22.0  1907  190  10   3\n",
              "2      1907-10-03  108     16.2     13.1     21.3  1907  190  10   3\n",
              "3      1907-10-04  108     16.5     11.2     22.0  1907  190  10   3\n",
              "4      1907-10-05  108     17.6     10.9     25.4  1907  190  10   3\n",
              "...           ...  ...      ...      ...      ...   ...  ...  ..  ..\n",
              "41154  2021-08-08  108     26.8     24.4     32.1  2021  202   8   2\n",
              "41155  2021-08-09  108     28.3     23.3     33.6  2021  202   8   2\n",
              "41156  2021-08-10  108     27.7     24.3     32.2  2021  202   8   2\n",
              "41157  2021-08-11  108     27.4     24.1     31.6  2021  202   8   2\n",
              "41158  2021-08-12  108     26.8     24.0     31.7  2021  202   8   2\n",
              "\n",
              "[41159 rows x 9 columns]"
            ]
          },
          "metadata": {},
          "execution_count": 148
        }
      ]
    },
    {
      "cell_type": "code",
      "metadata": {
        "colab": {
          "base_uri": "https://localhost:8080/",
          "height": 494
        },
        "id": "somaAUeKQFJT",
        "outputId": "f418b8c6-dc4b-4b38-c133-5c8dbb539509"
      },
      "source": [
        "df1.boxplot(column='최고기온(℃)', by='그룹', figsize=(16,6))"
      ],
      "execution_count": null,
      "outputs": [
        {
          "output_type": "stream",
          "text": [
            "/usr/local/lib/python3.7/dist-packages/numpy/core/_asarray.py:83: VisibleDeprecationWarning: Creating an ndarray from ragged nested sequences (which is a list-or-tuple of lists-or-tuples-or ndarrays with different lengths or shapes) is deprecated. If you meant to do this, you must specify 'dtype=object' when creating the ndarray\n",
            "  return array(a, dtype, copy=False, order=order)\n"
          ],
          "name": "stderr"
        },
        {
          "output_type": "execute_result",
          "data": {
            "text/plain": [
              "<matplotlib.axes._subplots.AxesSubplot at 0x7f6f6cbf0750>"
            ]
          },
          "metadata": {},
          "execution_count": 150
        },
        {
          "output_type": "display_data",
          "data": {
            "image/png": "[encoded data removed]",
            "text/plain": [
              "<Figure size 1152x432 with 1 Axes>"
            ]
          },
          "metadata": {}
        }
      ]
    },
    {
      "cell_type": "code",
      "metadata": {
        "colab": {
          "base_uri": "https://localhost:8080/",
          "height": 277
        },
        "id": "UPIJSWpS7bd0",
        "outputId": "67b48996-d94f-4fff-86d0-797508268265"
      },
      "source": [
        "df2.iloc[:, 2:5].groupby(df2.group).mean().plot()\n",
        "plt.show()"
      ],
      "execution_count": null,
      "outputs": [
        {
          "output_type": "display_data",
          "data": {
            "image/png": "[encoded data removed]",
            "text/plain": [
              "<Figure size 432x288 with 1 Axes>"
            ]
          },
          "metadata": {
            "needs_background": "light"
          }
        }
      ]
    },
    {
      "cell_type": "markdown",
      "metadata": {
        "id": "uThw9nK19T9g"
      },
      "source": [
        "### Pandas로 월별로 그룹핑하여 boxplot 그리기\n",
        "- https://pandas.pydata.org/docs/reference/api/pandas.DataFrame.boxplot.html \n",
        "- df.boxplot(column='col1', by='col2')"
      ]
    },
    {
      "cell_type": "code",
      "metadata": {
        "colab": {
          "base_uri": "https://localhost:8080/",
          "height": 494
        },
        "id": "D0CLzN-U9bqp",
        "outputId": "82294a3c-15ce-4f47-d126-cff5ca1121b8"
      },
      "source": [
        "df2 = df.copy()\n",
        "s = df2['날짜'].str.slice(5,7)\n",
        "sf = pd.DataFrame(s, columns=['날짜'])\n",
        "sf.columns = ['월']\n",
        "df3 = pd.merge(df2, sf, left_index=True, right_index=True)\n",
        "#df3['월'] = df3['월'].astype(int)\n",
        "# NaN을 제거해야 그래프를 그릴 수 있다.\n",
        "df3 = df3[df3['최고기온(℃)'].notnull()]\n",
        "df1.boxplot(column='최고기온(℃)', by='월', figsize=(16,6))"
      ],
      "execution_count": null,
      "outputs": [
        {
          "output_type": "stream",
          "text": [
            "/usr/local/lib/python3.7/dist-packages/numpy/core/_asarray.py:83: VisibleDeprecationWarning: Creating an ndarray from ragged nested sequences (which is a list-or-tuple of lists-or-tuples-or ndarrays with different lengths or shapes) is deprecated. If you meant to do this, you must specify 'dtype=object' when creating the ndarray\n",
            "  return array(a, dtype, copy=False, order=order)\n"
          ],
          "name": "stderr"
        },
        {
          "output_type": "execute_result",
          "data": {
            "text/plain": [
              "<matplotlib.axes._subplots.AxesSubplot at 0x7f6f6eaf1e10>"
            ]
          },
          "metadata": {},
          "execution_count": 151
        },
        {
          "output_type": "display_data",
          "data": {
            "image/png": "[encoded data removed]",
            "text/plain": [
              "<Figure size 1152x432 with 1 Axes>"
            ]
          },
          "metadata": {}
        }
      ]
    },
    {
      "cell_type": "markdown",
      "metadata": {
        "id": "6b4V92QAVZLJ"
      },
      "source": [
        "### 월을 계절로 변환하여 출력하기\n",
        "- 계절 = (월 // 3) % 4 \n",
        "- 0 : 겨울, 1 : 봄, 2 : 여름, 3 : 가을"
      ]
    },
    {
      "cell_type": "code",
      "metadata": {
        "colab": {
          "base_uri": "https://localhost:8080/",
          "height": 695
        },
        "id": "Oel9GxgdRuvz",
        "outputId": "5fc159a6-dcc5-4888-ce15-de8af2ab099f"
      },
      "source": [
        "# 월을 계절로 변환하기, 환절기(봄, 가을)이 일교차가 크다^^\n",
        "df10 = df.copy()\n",
        "df10['월'] = df10['날짜'].str.slice(5,7).astype(int)\n",
        "df10['계절'] = (df10['월'] // 3) % 4\n",
        "df10.boxplot(column='평균기온(℃)', by='계절', showfliers=False)\n",
        "df10[df10['날짜'].str.contains('2019-')].boxplot(column='평균기온(℃)', by='계절', showfliers=False)"
      ],
      "execution_count": null,
      "outputs": [
        {
          "output_type": "stream",
          "text": [
            "/usr/local/lib/python3.7/dist-packages/numpy/core/_asarray.py:83: VisibleDeprecationWarning: Creating an ndarray from ragged nested sequences (which is a list-or-tuple of lists-or-tuples-or ndarrays with different lengths or shapes) is deprecated. If you meant to do this, you must specify 'dtype=object' when creating the ndarray\n",
            "  return array(a, dtype, copy=False, order=order)\n",
            "/usr/local/lib/python3.7/dist-packages/numpy/core/_asarray.py:83: VisibleDeprecationWarning: Creating an ndarray from ragged nested sequences (which is a list-or-tuple of lists-or-tuples-or ndarrays with different lengths or shapes) is deprecated. If you meant to do this, you must specify 'dtype=object' when creating the ndarray\n",
            "  return array(a, dtype, copy=False, order=order)\n"
          ],
          "name": "stderr"
        },
        {
          "output_type": "execute_result",
          "data": {
            "text/plain": [
              "<matplotlib.axes._subplots.AxesSubplot at 0x7f6f6d45b410>"
            ]
          },
          "metadata": {},
          "execution_count": 133
        },
        {
          "output_type": "display_data",
          "data": {
            "image/png": "[encoded data removed]",
            "text/plain": [
              "<Figure size 432x288 with 1 Axes>"
            ]
          },
          "metadata": {}
        },
        {
          "output_type": "display_data",
          "data": {
            "image/png": "[encoded data removed]",
            "text/plain": [
              "<Figure size 432x288 with 1 Axes>"
            ]
          },
          "metadata": {}
        }
      ]
    },
    {
      "cell_type": "code",
      "metadata": {
        "colab": {
          "base_uri": "https://localhost:8080/",
          "height": 1000
        },
        "id": "3llSudLuYwuZ",
        "outputId": "1734f893-dc08-4fb4-e801-aaeb602e2797"
      },
      "source": [
        "# 월을 계절로 변환하기, 환절기(봄, 가을)이 일교차가 크다^^\n",
        "df1['일교차'] = df1['최고기온(℃)'] - df1['최저기온(℃)']\n",
        "df1.boxplot(column='일교차', by='계절', showfliers=False, figsize=(16,6))\n",
        "df1.boxplot(column='일교차', by='월', showfliers=False, figsize=(16,6))\n",
        "\n",
        "df9 = df.copy()\n",
        "df9['월'] = df10['날짜'].str.slice(5,7).astype(int)\n",
        "df9['계절'] = (df10['월'] // 3) % 4\n",
        "df9['일교차'] = df9['최고기온(℃)'] - df9['최저기온(℃)']\n",
        "df9.boxplot(column='일교차', by='계절', showfliers=False)\n",
        "df9.boxplot(column='일교차', by='월', showfliers=False)"
      ],
      "execution_count": null,
      "outputs": [
        {
          "output_type": "stream",
          "text": [
            "/usr/local/lib/python3.7/dist-packages/numpy/core/_asarray.py:83: VisibleDeprecationWarning: Creating an ndarray from ragged nested sequences (which is a list-or-tuple of lists-or-tuples-or ndarrays with different lengths or shapes) is deprecated. If you meant to do this, you must specify 'dtype=object' when creating the ndarray\n",
            "  return array(a, dtype, copy=False, order=order)\n",
            "/usr/local/lib/python3.7/dist-packages/numpy/core/_asarray.py:83: VisibleDeprecationWarning: Creating an ndarray from ragged nested sequences (which is a list-or-tuple of lists-or-tuples-or ndarrays with different lengths or shapes) is deprecated. If you meant to do this, you must specify 'dtype=object' when creating the ndarray\n",
            "  return array(a, dtype, copy=False, order=order)\n",
            "/usr/local/lib/python3.7/dist-packages/numpy/core/_asarray.py:83: VisibleDeprecationWarning: Creating an ndarray from ragged nested sequences (which is a list-or-tuple of lists-or-tuples-or ndarrays with different lengths or shapes) is deprecated. If you meant to do this, you must specify 'dtype=object' when creating the ndarray\n",
            "  return array(a, dtype, copy=False, order=order)\n",
            "/usr/local/lib/python3.7/dist-packages/numpy/core/_asarray.py:83: VisibleDeprecationWarning: Creating an ndarray from ragged nested sequences (which is a list-or-tuple of lists-or-tuples-or ndarrays with different lengths or shapes) is deprecated. If you meant to do this, you must specify 'dtype=object' when creating the ndarray\n",
            "  return array(a, dtype, copy=False, order=order)\n"
          ],
          "name": "stderr"
        },
        {
          "output_type": "execute_result",
          "data": {
            "text/plain": [
              "<matplotlib.axes._subplots.AxesSubplot at 0x7f6f6c3db990>"
            ]
          },
          "metadata": {},
          "execution_count": 153
        },
        {
          "output_type": "display_data",
          "data": {
            "image/png": "[encoded data removed]",
            "text/plain": [
              "<Figure size 1152x432 with 1 Axes>"
            ]
          },
          "metadata": {}
        },
        {
          "output_type": "display_data",
          "data": {
            "image/png": "[encoded data removed]",
            "text/plain": [
              "<Figure size 1152x432 with 1 Axes>"
            ]
          },
          "metadata": {}
        },
        {
          "output_type": "display_data",
          "data": {
            "image/png": "[encoded data removed]",
            "text/plain": [
              "<Figure size 432x288 with 1 Axes>"
            ]
          },
          "metadata": {}
        },
        {
          "output_type": "display_data",
          "data": {
            "image/png": "[encoded data removed]",
            "text/plain": [
              "<Figure size 432x288 with 1 Axes>"
            ]
          },
          "metadata": {}
        }
      ]
    },
    {
      "cell_type": "code",
      "metadata": {
        "colab": {
          "base_uri": "https://localhost:8080/"
        },
        "id": "6X_QQ0j-ZPEQ",
        "outputId": "34471c9f-fa59-4300-edb1-b06cf09114cb"
      },
      "source": [
        "df9[df9['계절']==0]['일교차'].describe()"
      ],
      "execution_count": null,
      "outputs": [
        {
          "output_type": "execute_result",
          "data": {
            "text/plain": [
              "count    10017.000000\n",
              "mean         8.506948\n",
              "std          2.667414\n",
              "min          1.000000\n",
              "25%          6.600000\n",
              "50%          8.300000\n",
              "75%         10.200000\n",
              "max         21.300000\n",
              "Name: 일교차, dtype: float64"
            ]
          },
          "metadata": {},
          "execution_count": 124
        }
      ]
    },
    {
      "cell_type": "code",
      "metadata": {
        "colab": {
          "base_uri": "https://localhost:8080/"
        },
        "id": "ptWuFHCbZh4_",
        "outputId": "3f32c0fc-d910-4c57-8f74-d01dcf265c28"
      },
      "source": [
        "df9[df9['계절']==1]['일교차'].describe()"
      ],
      "execution_count": null,
      "outputs": [
        {
          "output_type": "execute_result",
          "data": {
            "text/plain": [
              "count    10212.000000\n",
              "mean        10.411878\n",
              "std          3.423284\n",
              "min          1.300000\n",
              "25%          8.000000\n",
              "50%         10.400000\n",
              "75%         12.800000\n",
              "max         21.800000\n",
              "Name: 일교차, dtype: float64"
            ]
          },
          "metadata": {},
          "execution_count": 125
        }
      ]
    },
    {
      "cell_type": "code",
      "metadata": {
        "colab": {
          "base_uri": "https://localhost:8080/"
        },
        "id": "UkQYoD_CZue7",
        "outputId": "7263a922-88f3-4789-a159-32193fff530a"
      },
      "source": [
        "df9[df9['계절']==2]['일교차'].describe()"
      ],
      "execution_count": null,
      "outputs": [
        {
          "output_type": "execute_result",
          "data": {
            "text/plain": [
              "count    10193.000000\n",
              "mean         8.344217\n",
              "std          3.103418\n",
              "min          1.000000\n",
              "25%          6.100000\n",
              "50%          8.400000\n",
              "75%         10.400000\n",
              "max         21.000000\n",
              "Name: 일교차, dtype: float64"
            ]
          },
          "metadata": {},
          "execution_count": 126
        }
      ]
    },
    {
      "cell_type": "code",
      "metadata": {
        "colab": {
          "base_uri": "https://localhost:8080/"
        },
        "id": "o7aX5i2hZz7T",
        "outputId": "c10bbc69-e3dc-4b63-928a-137bab510f94"
      },
      "source": [
        "df9[df9['계절']==3]['일교차'].describe()"
      ],
      "execution_count": null,
      "outputs": [
        {
          "output_type": "execute_result",
          "data": {
            "text/plain": [
              "count    9979.000000\n",
              "mean        9.939774\n",
              "std         3.191653\n",
              "min         1.000000\n",
              "25%         7.800000\n",
              "50%        10.000000\n",
              "75%        12.200000\n",
              "max        21.200000\n",
              "Name: 일교차, dtype: float64"
            ]
          },
          "metadata": {},
          "execution_count": 127
        }
      ]
    },
    {
      "cell_type": "code",
      "metadata": {
        "colab": {
          "base_uri": "https://localhost:8080/",
          "height": 419
        },
        "id": "IE5_-fb8aiSQ",
        "outputId": "99e5bbea-9ed7-4248-85f7-daf34819e2f5"
      },
      "source": [
        "df9"
      ],
      "execution_count": null,
      "outputs": [
        {
          "output_type": "execute_result",
          "data": {
            "text/html": [
              "<div>\n",
              "<style scoped>\n",
              "    .dataframe tbody tr th:only-of-type {\n",
              "        vertical-align: middle;\n",
              "    }\n",
              "\n",
              "    .dataframe tbody tr th {\n",
              "        vertical-align: top;\n",
              "    }\n",
              "\n",
              "    .dataframe thead th {\n",
              "        text-align: right;\n",
              "    }\n",
              "</style>\n",
              "<table border=\"1\" class=\"dataframe\">\n",
              "  <thead>\n",
              "    <tr style=\"text-align: right;\">\n",
              "      <th></th>\n",
              "      <th>날짜</th>\n",
              "      <th>지점</th>\n",
              "      <th>평균기온(℃)</th>\n",
              "      <th>최저기온(℃)</th>\n",
              "      <th>최고기온(℃)</th>\n",
              "      <th>월</th>\n",
              "      <th>계절</th>\n",
              "      <th>일교차</th>\n",
              "    </tr>\n",
              "  </thead>\n",
              "  <tbody>\n",
              "    <tr>\n",
              "      <th>0</th>\n",
              "      <td>1907-10-01</td>\n",
              "      <td>108</td>\n",
              "      <td>13.5</td>\n",
              "      <td>7.9</td>\n",
              "      <td>20.7</td>\n",
              "      <td>10</td>\n",
              "      <td>3</td>\n",
              "      <td>12.8</td>\n",
              "    </tr>\n",
              "    <tr>\n",
              "      <th>1</th>\n",
              "      <td>1907-10-02</td>\n",
              "      <td>108</td>\n",
              "      <td>16.2</td>\n",
              "      <td>7.9</td>\n",
              "      <td>22.0</td>\n",
              "      <td>10</td>\n",
              "      <td>3</td>\n",
              "      <td>14.1</td>\n",
              "    </tr>\n",
              "    <tr>\n",
              "      <th>2</th>\n",
              "      <td>1907-10-03</td>\n",
              "      <td>108</td>\n",
              "      <td>16.2</td>\n",
              "      <td>13.1</td>\n",
              "      <td>21.3</td>\n",
              "      <td>10</td>\n",
              "      <td>3</td>\n",
              "      <td>8.2</td>\n",
              "    </tr>\n",
              "    <tr>\n",
              "      <th>3</th>\n",
              "      <td>1907-10-04</td>\n",
              "      <td>108</td>\n",
              "      <td>16.5</td>\n",
              "      <td>11.2</td>\n",
              "      <td>22.0</td>\n",
              "      <td>10</td>\n",
              "      <td>3</td>\n",
              "      <td>10.8</td>\n",
              "    </tr>\n",
              "    <tr>\n",
              "      <th>4</th>\n",
              "      <td>1907-10-05</td>\n",
              "      <td>108</td>\n",
              "      <td>17.6</td>\n",
              "      <td>10.9</td>\n",
              "      <td>25.4</td>\n",
              "      <td>10</td>\n",
              "      <td>3</td>\n",
              "      <td>14.5</td>\n",
              "    </tr>\n",
              "    <tr>\n",
              "      <th>...</th>\n",
              "      <td>...</td>\n",
              "      <td>...</td>\n",
              "      <td>...</td>\n",
              "      <td>...</td>\n",
              "      <td>...</td>\n",
              "      <td>...</td>\n",
              "      <td>...</td>\n",
              "      <td>...</td>\n",
              "    </tr>\n",
              "    <tr>\n",
              "      <th>41154</th>\n",
              "      <td>2021-08-08</td>\n",
              "      <td>108</td>\n",
              "      <td>26.8</td>\n",
              "      <td>24.4</td>\n",
              "      <td>32.1</td>\n",
              "      <td>8</td>\n",
              "      <td>2</td>\n",
              "      <td>7.7</td>\n",
              "    </tr>\n",
              "    <tr>\n",
              "      <th>41155</th>\n",
              "      <td>2021-08-09</td>\n",
              "      <td>108</td>\n",
              "      <td>28.3</td>\n",
              "      <td>23.3</td>\n",
              "      <td>33.6</td>\n",
              "      <td>8</td>\n",
              "      <td>2</td>\n",
              "      <td>10.3</td>\n",
              "    </tr>\n",
              "    <tr>\n",
              "      <th>41156</th>\n",
              "      <td>2021-08-10</td>\n",
              "      <td>108</td>\n",
              "      <td>27.7</td>\n",
              "      <td>24.3</td>\n",
              "      <td>32.2</td>\n",
              "      <td>8</td>\n",
              "      <td>2</td>\n",
              "      <td>7.9</td>\n",
              "    </tr>\n",
              "    <tr>\n",
              "      <th>41157</th>\n",
              "      <td>2021-08-11</td>\n",
              "      <td>108</td>\n",
              "      <td>27.4</td>\n",
              "      <td>24.1</td>\n",
              "      <td>31.6</td>\n",
              "      <td>8</td>\n",
              "      <td>2</td>\n",
              "      <td>7.5</td>\n",
              "    </tr>\n",
              "    <tr>\n",
              "      <th>41158</th>\n",
              "      <td>2021-08-12</td>\n",
              "      <td>108</td>\n",
              "      <td>26.8</td>\n",
              "      <td>24.0</td>\n",
              "      <td>31.7</td>\n",
              "      <td>8</td>\n",
              "      <td>2</td>\n",
              "      <td>7.7</td>\n",
              "    </tr>\n",
              "  </tbody>\n",
              "</table>\n",
              "<p>41159 rows × 8 columns</p>\n",
              "</div>"
            ],
            "text/plain": [
              "               날짜   지점  평균기온(℃)  최저기온(℃)  최고기온(℃)   월  계절   일교차\n",
              "0      1907-10-01  108     13.5      7.9     20.7  10   3  12.8\n",
              "1      1907-10-02  108     16.2      7.9     22.0  10   3  14.1\n",
              "2      1907-10-03  108     16.2     13.1     21.3  10   3   8.2\n",
              "3      1907-10-04  108     16.5     11.2     22.0  10   3  10.8\n",
              "4      1907-10-05  108     17.6     10.9     25.4  10   3  14.5\n",
              "...           ...  ...      ...      ...      ...  ..  ..   ...\n",
              "41154  2021-08-08  108     26.8     24.4     32.1   8   2   7.7\n",
              "41155  2021-08-09  108     28.3     23.3     33.6   8   2  10.3\n",
              "41156  2021-08-10  108     27.7     24.3     32.2   8   2   7.9\n",
              "41157  2021-08-11  108     27.4     24.1     31.6   8   2   7.5\n",
              "41158  2021-08-12  108     26.8     24.0     31.7   8   2   7.7\n",
              "\n",
              "[41159 rows x 8 columns]"
            ]
          },
          "metadata": {},
          "execution_count": 128
        }
      ]
    },
    {
      "cell_type": "code",
      "metadata": {
        "colab": {
          "base_uri": "https://localhost:8080/"
        },
        "id": "BbMlQlvTSgaQ",
        "outputId": "9f42b5a4-ec8d-4e62-ec0f-bd032b2e8a58"
      },
      "source": [
        "x = [(i//3)%4 for i in range(1,13)]\n",
        "x"
      ],
      "execution_count": null,
      "outputs": [
        {
          "output_type": "execute_result",
          "data": {
            "text/plain": [
              "[0, 0, 1, 1, 1, 2, 2, 2, 3, 3, 3, 0]"
            ]
          },
          "metadata": {},
          "execution_count": 86
        }
      ]
    },
    {
      "cell_type": "markdown",
      "metadata": {
        "id": "fNUN1S6pNVRs"
      },
      "source": [
        "## 10년씩 기온 평균 구기\n",
        "- 10년 단위로 평균 기온을 평균내어 그래프로 그려본다."
      ]
    },
    {
      "cell_type": "code",
      "metadata": {
        "colab": {
          "base_uri": "https://localhost:8080/"
        },
        "id": "nRdwEwgeNuTA",
        "outputId": "74b93f6c-565b-4e26-c9a3-08bd2a463976"
      },
      "source": [
        "# 10년 단위 (1900, 1910, 1920, ...) 평균 기온의 평균 그려보기 - 온난화 확인\n",
        "import csv\n",
        "f = open('seoul.csv', encoding='cp949')\n",
        "data = csv.reader(f)\n",
        "header = next(data)\n",
        "print(header)\n",
        "# 년도 색인, 1900~1909 : 0, 1910 ~ 1919 : 1, ...\n",
        "year = -1\n",
        "# 평균 온도를 저장하는 13개의 리스트\n",
        "avg_temp = []\n",
        "min_temp = []\n",
        "max_temp = []\n",
        "for i in range(13) :\n",
        "  avg_temp.append([])\n",
        "  max_temp.append([])\n",
        "  min_temp.append([])\n",
        "\n",
        "for row in data :\n",
        "# 빈 데이터가 아니라면 temp 리스트의 해당 요소(리스트)에 추가한다.\n",
        "  # 일자를 '-' 단위로 분리한 첫 번째\n",
        "  year = int(row[0].split('-')[0])\n",
        "  # 일자를 10으로 나누고 190으로 나눈 나머지를 색인으로 사용\n",
        "  idx = int(year/10) % 190\n",
        "  if row[2] != '' : # 평균온도\n",
        "    avg_temp[idx].append(float(row[2]))\n",
        "  if row[4] != '' : # 최고온도\n",
        "    max_temp[idx].append(float(row[4]))\n",
        "  if row[3] != '' : # 최저온도\n",
        "    min_temp[idx].append(float(row[3]))"
      ],
      "execution_count": null,
      "outputs": [
        {
          "output_type": "stream",
          "text": [
            "['날짜', '지점', '평균기온(℃)', '최저기온(℃)', '최고기온(℃)']\n"
          ],
          "name": "stdout"
        }
      ]
    },
    {
      "cell_type": "code",
      "metadata": {
        "colab": {
          "base_uri": "https://localhost:8080/"
        },
        "id": "leCusAg1SvtL",
        "outputId": "e99f13a4-f352-4da7-e7b1-ff82c4378c44"
      },
      "source": [
        "avgt = [0] * 13\n",
        "maxt = [0] * 13\n",
        "mint = [0] * 13\n",
        "for i in range(13) :\n",
        "  avgt[i] = sum(avg_temp[i]) / len(avg_temp[i])\n",
        "  maxt[i] = sum(max_temp[i]) / len(max_temp[i])\n",
        "  mint[i] = sum(min_temp[i]) / len(min_temp[i])\n",
        "print(avgt)\n",
        "print(maxt)\n",
        "print(mint)"
      ],
      "execution_count": null,
      "outputs": [
        {
          "output_type": "stream",
          "text": [
            "[9.91263669501823, 10.66645673603508, 11.005036955926618, 11.050684556407468, 11.052395291541181, 11.313225152129808, 11.721927183137185, 11.94698795180721, 11.870024637284411, 12.800657174151125, 12.911141527511603, 12.934474260679092, 13.532542372881359]\n",
            "[15.279465370595355, 16.144441401971587, 16.451300301122348, 16.52497261774371, 16.68620312072273, 16.450912778904673, 16.525711938663694, 16.73496714129243, 16.541719134957532, 17.38480284775466, 17.238899534628924, 17.68282662284304, 18.23152542372882]\n",
            "[5.173511543134875, 5.925164293537792, 5.977990692581458, 6.480722891566236, 6.267287161237361, 7.026612576064912, 7.612814895947405, 8.037869660460018, 7.879906925814419, 8.797179627601313, 9.146126471393316, 8.951067907995618, 9.495423728813567]\n"
          ],
          "name": "stdout"
        }
      ]
    },
    {
      "cell_type": "code",
      "metadata": {
        "colab": {
          "base_uri": "https://localhost:8080/",
          "height": 389
        },
        "id": "agaJotx2SxlO",
        "outputId": "4874f980-14e5-401f-e2ce-b36d222830df"
      },
      "source": [
        "import matplotlib.pyplot as plt\n",
        "\n",
        "plt.style.use('ggplot')\n",
        "plt.figure(figsize=(12,6))\n",
        "plt.plot(avgt, 'g', label='mean')\n",
        "plt.plot(maxt, 'r--', label='max')\n",
        "plt.plot(mint, 'b:', label='min')\n",
        "#plt.ylim(-1,12)\n",
        "plt.xticks(range(13), [1900 + i * 10 for i in range(13)], rotation=90)\n",
        "plt.legend()\n",
        "plt.show()"
      ],
      "execution_count": null,
      "outputs": [
        {
          "output_type": "display_data",
          "data": {
            "image/png": "[encoded data removed]",
            "text/plain": [
              "<Figure size 864x432 with 1 Axes>"
            ]
          },
          "metadata": {
            "tags": []
          }
        }
      ]
    },
    {
      "cell_type": "code",
      "metadata": {
        "colab": {
          "base_uri": "https://localhost:8080/",
          "height": 80
        },
        "id": "32yg-FNqwb37",
        "outputId": "aa5ec67c-e7d8-4a20-a3a1-62752852be3b"
      },
      "source": [
        "# 최고 평균 행 가져오기\n",
        "df.iloc[[df['평균기온(℃)'].idxmax()]]"
      ],
      "execution_count": null,
      "outputs": [
        {
          "output_type": "execute_result",
          "data": {
            "text/html": [
              "<div>\n",
              "<style scoped>\n",
              "    .dataframe tbody tr th:only-of-type {\n",
              "        vertical-align: middle;\n",
              "    }\n",
              "\n",
              "    .dataframe tbody tr th {\n",
              "        vertical-align: top;\n",
              "    }\n",
              "\n",
              "    .dataframe thead th {\n",
              "        text-align: right;\n",
              "    }\n",
              "</style>\n",
              "<table border=\"1\" class=\"dataframe\">\n",
              "  <thead>\n",
              "    <tr style=\"text-align: right;\">\n",
              "      <th></th>\n",
              "      <th>날짜</th>\n",
              "      <th>지점</th>\n",
              "      <th>평균기온(℃)</th>\n",
              "      <th>최저기온(℃)</th>\n",
              "      <th>최고기온(℃)</th>\n",
              "    </tr>\n",
              "  </thead>\n",
              "  <tbody>\n",
              "    <tr>\n",
              "      <th>40052</th>\n",
              "      <td>2018-08-02</td>\n",
              "      <td>108</td>\n",
              "      <td>33.7</td>\n",
              "      <td>30.3</td>\n",
              "      <td>37.9</td>\n",
              "    </tr>\n",
              "  </tbody>\n",
              "</table>\n",
              "</div>"
            ],
            "text/plain": [
              "               날짜   지점  평균기온(℃)  최저기온(℃)  최고기온(℃)\n",
              "40052  2018-08-02  108     33.7     30.3     37.9"
            ]
          },
          "metadata": {},
          "execution_count": 10
        }
      ]
    },
    {
      "cell_type": "code",
      "metadata": {
        "colab": {
          "base_uri": "https://localhost:8080/",
          "height": 80
        },
        "id": "skNhyB6swmnu",
        "outputId": "71e6aa53-8863-4b06-c534-c104117dc330"
      },
      "source": [
        "# 최저 평균 행 가져오기\n",
        "df.iloc[[df['평균기온(℃)'].idxmin()]]"
      ],
      "execution_count": null,
      "outputs": [
        {
          "output_type": "execute_result",
          "data": {
            "text/html": [
              "<div>\n",
              "<style scoped>\n",
              "    .dataframe tbody tr th:only-of-type {\n",
              "        vertical-align: middle;\n",
              "    }\n",
              "\n",
              "    .dataframe tbody tr th {\n",
              "        vertical-align: top;\n",
              "    }\n",
              "\n",
              "    .dataframe thead th {\n",
              "        text-align: right;\n",
              "    }\n",
              "</style>\n",
              "<table border=\"1\" class=\"dataframe\">\n",
              "  <thead>\n",
              "    <tr style=\"text-align: right;\">\n",
              "      <th></th>\n",
              "      <th>날짜</th>\n",
              "      <th>지점</th>\n",
              "      <th>평균기온(℃)</th>\n",
              "      <th>최저기온(℃)</th>\n",
              "      <th>최고기온(℃)</th>\n",
              "    </tr>\n",
              "  </thead>\n",
              "  <tbody>\n",
              "    <tr>\n",
              "      <th>2661</th>\n",
              "      <td>1915-01-13</td>\n",
              "      <td>108</td>\n",
              "      <td>-19.2</td>\n",
              "      <td>-21.3</td>\n",
              "      <td>-16.3</td>\n",
              "    </tr>\n",
              "  </tbody>\n",
              "</table>\n",
              "</div>"
            ],
            "text/plain": [
              "              날짜   지점  평균기온(℃)  최저기온(℃)  최고기온(℃)\n",
              "2661  1915-01-13  108    -19.2    -21.3    -16.3"
            ]
          },
          "metadata": {},
          "execution_count": 11
        }
      ]
    }
  ]
}